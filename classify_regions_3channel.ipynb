{
 "cells": [
  {
   "cell_type": "code",
   "execution_count": 1,
   "metadata": {},
   "outputs": [],
   "source": [
    "import glob\n",
    "import os\n",
    "import shutil\n",
    "from PIL import Image \n",
    "import matplotlib.pyplot as plt\n",
    "import numpy as np\n",
    "import pandas as pd\n",
    "import nibabel as nib\n",
    "\n",
    "from modules.scandata import MriScan, MriSlice, TumourSegmentation, ScanType, ScanPlane"
   ]
  },
  {
   "cell_type": "code",
   "execution_count": 2,
   "metadata": {},
   "outputs": [
    {
     "name": "stderr",
     "output_type": "stream",
     "text": [
      "2022-11-26 21:01:07.912532: I tensorflow/core/platform/cpu_feature_guard.cc:193] This TensorFlow binary is optimized with oneAPI Deep Neural Network Library (oneDNN) to use the following CPU instructions in performance-critical operations:  SSE3 SSE4.1 SSE4.2 AVX AVX2 AVX512F FMA\n",
      "To enable them in other operations, rebuild TensorFlow with the appropriate compiler flags.\n",
      "2022-11-26 21:01:08.079500: I tensorflow/core/tpu/tpu_initializer_helper.cc:262] Libtpu path is: libtpu.so\n",
      "I1126 21:01:08.195682432   67064 ev_epoll1_linux.cc:121]     grpc epoll fd: 70\n",
      "D1126 21:01:08.195715339   67064 ev_posix.cc:141]            Using polling engine: epoll1\n",
      "D1126 21:01:08.195748252   67064 lb_policy_registry.cc:43]   registering LB policy factory for \"grpclb\"\n",
      "D1126 21:01:08.195756936   67064 lb_policy_registry.cc:43]   registering LB policy factory for \"rls_experimental\"\n",
      "D1126 21:01:08.195771003   67064 lb_policy_registry.cc:43]   registering LB policy factory for \"priority_experimental\"\n",
      "D1126 21:01:08.195773963   67064 lb_policy_registry.cc:43]   registering LB policy factory for \"weighted_target_experimental\"\n",
      "D1126 21:01:08.195776991   67064 lb_policy_registry.cc:43]   registering LB policy factory for \"pick_first\"\n",
      "D1126 21:01:08.195779849   67064 lb_policy_registry.cc:43]   registering LB policy factory for \"round_robin\"\n",
      "D1126 21:01:08.195788758   67064 lb_policy_registry.cc:43]   registering LB policy factory for \"ring_hash_experimental\"\n",
      "D1126 21:01:08.195803545   67064 dns_resolver_ares.cc:831]   Using ares dns resolver\n",
      "D1126 21:01:08.195826923   67064 certificate_provider_registry.cc:39] registering certificate provider factory for \"file_watcher\"\n",
      "D1126 21:01:08.195834388   67064 lb_policy_registry.cc:43]   registering LB policy factory for \"cds_experimental\"\n",
      "D1126 21:01:08.195841120   67064 lb_policy_registry.cc:43]   registering LB policy factory for \"xds_cluster_impl_experimental\"\n",
      "D1126 21:01:08.195848021   67064 lb_policy_registry.cc:43]   registering LB policy factory for \"xds_cluster_resolver_experimental\"\n",
      "D1126 21:01:08.195850988   67064 lb_policy_registry.cc:43]   registering LB policy factory for \"xds_cluster_manager_experimental\"\n"
     ]
    }
   ],
   "source": [
    "import numpy as np\n",
    "import os\n",
    "import PIL\n",
    "import PIL.Image\n",
    "import tensorflow as tf\n",
    "#import tensorflow_datasets as tfds\n",
    "from sklearn.utils.class_weight import compute_class_weight\n",
    "\n",
    "from tensorflow import keras\n",
    "from tensorflow.keras import layers\n",
    "from tensorflow.keras.models import Sequential"
   ]
  },
  {
   "cell_type": "code",
   "execution_count": 3,
   "metadata": {},
   "outputs": [
    {
     "name": "stderr",
     "output_type": "stream",
     "text": [
      "2022-11-26 21:01:10.298663: I tensorflow/core/platform/cpu_feature_guard.cc:193] This TensorFlow binary is optimized with oneAPI Deep Neural Network Library (oneDNN) to use the following CPU instructions in performance-critical operations:  SSE3 SSE4.1 SSE4.2 AVX AVX2 AVX512F FMA\n",
      "To enable them in other operations, rebuild TensorFlow with the appropriate compiler flags.\n",
      "2022-11-26 21:01:16.646872: I tensorflow/compiler/xla/service/service.cc:173] XLA service 0x6cb4da0 initialized for platform TPU (this does not guarantee that XLA will be used). Devices:\n",
      "2022-11-26 21:01:16.646904: I tensorflow/compiler/xla/service/service.cc:181]   StreamExecutor device (0): TPU, 2a886c8\n",
      "2022-11-26 21:01:16.646912: I tensorflow/compiler/xla/service/service.cc:181]   StreamExecutor device (1): TPU, 2a886c8\n",
      "2022-11-26 21:01:16.646931: I tensorflow/compiler/xla/service/service.cc:181]   StreamExecutor device (2): TPU, 2a886c8\n",
      "2022-11-26 21:01:16.646936: I tensorflow/compiler/xla/service/service.cc:181]   StreamExecutor device (3): TPU, 2a886c8\n",
      "2022-11-26 21:01:16.646942: I tensorflow/compiler/xla/service/service.cc:181]   StreamExecutor device (4): TPU, 2a886c8\n",
      "2022-11-26 21:01:16.646948: I tensorflow/compiler/xla/service/service.cc:181]   StreamExecutor device (5): TPU, 2a886c8\n",
      "2022-11-26 21:01:16.646953: I tensorflow/compiler/xla/service/service.cc:181]   StreamExecutor device (6): TPU, 2a886c8\n",
      "2022-11-26 21:01:16.646959: I tensorflow/compiler/xla/service/service.cc:181]   StreamExecutor device (7): TPU, 2a886c8\n"
     ]
    },
    {
     "data": {
      "text/plain": [
       "[LogicalDevice(name='/device:TPU:0', device_type='TPU'),\n",
       " LogicalDevice(name='/device:TPU:1', device_type='TPU'),\n",
       " LogicalDevice(name='/device:TPU:2', device_type='TPU'),\n",
       " LogicalDevice(name='/device:TPU:3', device_type='TPU'),\n",
       " LogicalDevice(name='/device:TPU:4', device_type='TPU'),\n",
       " LogicalDevice(name='/device:TPU:5', device_type='TPU'),\n",
       " LogicalDevice(name='/device:TPU:6', device_type='TPU'),\n",
       " LogicalDevice(name='/device:TPU:7', device_type='TPU')]"
      ]
     },
     "execution_count": 3,
     "metadata": {},
     "output_type": "execute_result"
    }
   ],
   "source": [
    "tf.config.list_logical_devices('TPU')"
   ]
  },
  {
   "cell_type": "code",
   "execution_count": 4,
   "metadata": {},
   "outputs": [
    {
     "name": "stdout",
     "output_type": "stream",
     "text": [
      "INFO:tensorflow:Deallocate tpu buffers before initializing tpu system.\n",
      "INFO:tensorflow:Initializing the TPU system: local\n",
      "INFO:tensorflow:Finished initializing TPU system.\n",
      "INFO:tensorflow:Found TPU system:\n",
      "INFO:tensorflow:*** Num TPU Cores: 8\n",
      "INFO:tensorflow:*** Num TPU Workers: 1\n",
      "INFO:tensorflow:*** Num TPU Cores Per Worker: 8\n",
      "INFO:tensorflow:*** Available Device: _DeviceAttributes(/job:localhost/replica:0/task:0/device:CPU:0, CPU, 0, 0)\n",
      "INFO:tensorflow:*** Available Device: _DeviceAttributes(/job:localhost/replica:0/task:0/device:TPU:0, TPU, 0, 0)\n",
      "INFO:tensorflow:*** Available Device: _DeviceAttributes(/job:localhost/replica:0/task:0/device:TPU:1, TPU, 0, 0)\n",
      "INFO:tensorflow:*** Available Device: _DeviceAttributes(/job:localhost/replica:0/task:0/device:TPU:2, TPU, 0, 0)\n",
      "INFO:tensorflow:*** Available Device: _DeviceAttributes(/job:localhost/replica:0/task:0/device:TPU:3, TPU, 0, 0)\n",
      "INFO:tensorflow:*** Available Device: _DeviceAttributes(/job:localhost/replica:0/task:0/device:TPU:4, TPU, 0, 0)\n",
      "INFO:tensorflow:*** Available Device: _DeviceAttributes(/job:localhost/replica:0/task:0/device:TPU:5, TPU, 0, 0)\n",
      "INFO:tensorflow:*** Available Device: _DeviceAttributes(/job:localhost/replica:0/task:0/device:TPU:6, TPU, 0, 0)\n",
      "INFO:tensorflow:*** Available Device: _DeviceAttributes(/job:localhost/replica:0/task:0/device:TPU:7, TPU, 0, 0)\n",
      "INFO:tensorflow:*** Available Device: _DeviceAttributes(/job:localhost/replica:0/task:0/device:TPU_SYSTEM:0, TPU_SYSTEM, 0, 0)\n"
     ]
    }
   ],
   "source": [
    "cluster_resolver = tf.distribute.cluster_resolver.TPUClusterResolver(tpu='local')\n",
    "tf.config.experimental_connect_to_cluster(cluster_resolver)\n",
    "tf.tpu.experimental.initialize_tpu_system(cluster_resolver)\n",
    "strategy = tf.distribute.TPUStrategy(cluster_resolver)\n"
   ]
  },
  {
   "cell_type": "code",
   "execution_count": 5,
   "metadata": {},
   "outputs": [],
   "source": [
    "batch_size = 64\n",
    "img_height = 240\n",
    "img_width = 240\n",
    "data_dir = os.path.join('data','UPENN-GBM','slice_classification_common_stratify_3channel','train')\n"
   ]
  },
  {
   "cell_type": "code",
   "execution_count": 6,
   "metadata": {},
   "outputs": [
    {
     "name": "stdout",
     "output_type": "stream",
     "text": [
      "Found 49725 files belonging to 5 classes.\n",
      "Using 39780 files for training.\n"
     ]
    }
   ],
   "source": [
    "train_ds = tf.keras.utils.image_dataset_from_directory(\n",
    "    data_dir,\n",
    "    validation_split=0.2,\n",
    "    subset=\"training\",\n",
    "    color_mode=\"rgb\",\n",
    "    seed=123,\n",
    "    image_size=(img_height, img_width),\n",
    "    batch_size=batch_size)"
   ]
  },
  {
   "cell_type": "code",
   "execution_count": null,
   "metadata": {},
   "outputs": [],
   "source": []
  },
  {
   "cell_type": "code",
   "execution_count": 7,
   "metadata": {},
   "outputs": [
    {
     "name": "stdout",
     "output_type": "stream",
     "text": [
      "Found 49725 files belonging to 5 classes.\n",
      "Using 9945 files for validation.\n"
     ]
    }
   ],
   "source": [
    "val_ds = tf.keras.utils.image_dataset_from_directory(\n",
    "    data_dir,\n",
    "    validation_split=0.2,\n",
    "    subset=\"validation\",\n",
    "    color_mode=\"rgb\",\n",
    "    seed=123,\n",
    "    image_size=(img_height, img_width),\n",
    "    batch_size=batch_size)"
   ]
  },
  {
   "cell_type": "code",
   "execution_count": 8,
   "metadata": {},
   "outputs": [
    {
     "name": "stdout",
     "output_type": "stream",
     "text": [
      "['background', 'background_edema', 'background_edema_contrast', 'background_tumour_edema', 'background_tumour_edema_contrast']\n"
     ]
    }
   ],
   "source": [
    "class_names = train_ds.class_names\n",
    "print(class_names)"
   ]
  },
  {
   "cell_type": "code",
   "execution_count": 9,
   "metadata": {},
   "outputs": [],
   "source": [
    " # Calculate class weights ofr weighting accuracy\n",
    "ds_classes = []\n",
    "for _, batch_classes in train_ds:\n",
    "    ds_classes.append(batch_classes.numpy())\n",
    "\n",
    "ds_classes = np.concatenate(ds_classes)\n",
    "\n",
    "class_weight = compute_class_weight(\n",
    "    class_weight = 'balanced',\n",
    "    classes = np.unique(ds_classes),\n",
    "    y=ds_classes\n",
    ")\n",
    "\n",
    "class_weight = dict(zip(np.unique(ds_classes), class_weight))\n"
   ]
  },
  {
   "cell_type": "code",
   "execution_count": 10,
   "metadata": {},
   "outputs": [],
   "source": [
    "AUTOTUNE = tf.data.AUTOTUNE\n",
    "\n",
    "train_ds = train_ds.cache().shuffle(1000).prefetch(buffer_size=AUTOTUNE)\n",
    "val_ds = val_ds.cache().prefetch(buffer_size=AUTOTUNE)"
   ]
  },
  {
   "cell_type": "code",
   "execution_count": 11,
   "metadata": {},
   "outputs": [],
   "source": [
    "normalization_layer = layers.Rescaling(1./(2**8-1))"
   ]
  },
  {
   "cell_type": "code",
   "execution_count": 12,
   "metadata": {},
   "outputs": [],
   "source": [
    "num_classes = len(class_names)"
   ]
  },
  {
   "cell_type": "code",
   "execution_count": 13,
   "metadata": {},
   "outputs": [],
   "source": [
    "margin = 8\n",
    "scaled_height = img_height - 2*margin\n",
    "scaled_width = img_width - 2*margin"
   ]
  },
  {
   "cell_type": "code",
   "execution_count": 14,
   "metadata": {},
   "outputs": [],
   "source": [
    "# Build layers for model\n"
   ]
  },
  {
   "cell_type": "code",
   "execution_count": 15,
   "metadata": {},
   "outputs": [
    {
     "name": "stderr",
     "output_type": "stream",
     "text": [
      "2022-11-26 21:01:41.535057: I tensorflow/compiler/mlir/tensorflow/utils/dump_mlir_util.cc:268] disabling MLIR crash reproducer, set env var `MLIR_CRASH_REPRODUCER_DIRECTORY` to enable.\n",
      "2022-11-26 21:01:41.595139: I tensorflow/compiler/jit/xla_compilation_cache.cc:476] Compiled cluster using XLA!  This line is logged at most once for the lifetime of the process.\n"
     ]
    }
   ],
   "source": [
    "\n",
    "with strategy.scope():\n",
    "    crop_layer = tf.keras.layers.Cropping2D(margin)\n",
    "    rescale_initial = tf.keras.layers.Rescaling(1./127.5, offset=-1)\n",
    "    #conv_4to3_channel = tf.keras.layers.Conv2D(3,1,padding='same', activation='tanh')\n",
    "    trained_base_model = tf.keras.applications.MobileNetV2(\n",
    "        input_shape=(scaled_width,scaled_height,3),\n",
    "        include_top=False,\n",
    "        weights='imagenet'\n",
    "    )\n",
    "    global_average_layer = tf.keras.layers.GlobalAveragePooling2D()\n",
    "    prediction_layer = tf.keras.layers.Dense(num_classes)\n",
    "\n",
    "    trained_base_model.trainable = False\n",
    "    \n",
    "    inputs = tf.keras.Input(shape=(img_width, img_height, 3))\n",
    "    x = crop_layer(inputs)\n",
    "    x = rescale_initial(x)\n",
    "    #x = conv_4to3_channel(x)\n",
    "    x = trained_base_model(x, training=False)\n",
    "    x = global_average_layer(x)\n",
    "    x = tf.keras.layers.Dropout(0.2)(x)\n",
    "    outputs = prediction_layer(x)\n",
    "   \n",
    "    model_fixed_base = tf.keras.Model(inputs, outputs)\n",
    "    model_fixed_base.compile(optimizer=tf.keras.optimizers.Adam(learning_rate=0.0001),\n",
    "                  loss=tf.keras.losses.SparseCategoricalCrossentropy(from_logits=True),\n",
    "                  metrics=['accuracy']\n",
    "    )"
   ]
  },
  {
   "cell_type": "code",
   "execution_count": 16,
   "metadata": {},
   "outputs": [
    {
     "name": "stdout",
     "output_type": "stream",
     "text": [
      "Model: \"model\"\n",
      "_________________________________________________________________\n",
      " Layer (type)                Output Shape              Param #   \n",
      "=================================================================\n",
      " input_2 (InputLayer)        [(None, 240, 240, 3)]     0         \n",
      "                                                                 \n",
      " cropping2d (Cropping2D)     (None, 224, 224, 3)       0         \n",
      "                                                                 \n",
      " rescaling_1 (Rescaling)     (None, 224, 224, 3)       0         \n",
      "                                                                 \n",
      " mobilenetv2_1.00_224 (Funct  (None, 7, 7, 1280)       2257984   \n",
      " ional)                                                          \n",
      "                                                                 \n",
      " global_average_pooling2d (G  (None, 1280)             0         \n",
      " lobalAveragePooling2D)                                          \n",
      "                                                                 \n",
      " dropout (Dropout)           (None, 1280)              0         \n",
      "                                                                 \n",
      " dense (Dense)               (None, 5)                 6405      \n",
      "                                                                 \n",
      "=================================================================\n",
      "Total params: 2,264,389\n",
      "Trainable params: 6,405\n",
      "Non-trainable params: 2,257,984\n",
      "_________________________________________________________________\n"
     ]
    }
   ],
   "source": [
    "model_fixed_base.summary()"
   ]
  },
  {
   "cell_type": "code",
   "execution_count": 17,
   "metadata": {},
   "outputs": [
    {
     "name": "stderr",
     "output_type": "stream",
     "text": [
      "2022-11-26 21:02:02.143283: W tensorflow/core/grappler/optimizers/data/auto_shard.cc:776] AUTO sharding policy will apply DATA sharding policy as it failed to apply FILE sharding policy because of the following reason: Found an unshardable source dataset: name: \"TensorSliceDataset/_1\"\n",
      "op: \"TensorSliceDataset\"\n",
      "input: \"Placeholder/_0\"\n",
      "attr {\n",
      "  key: \"Toutput_types\"\n",
      "  value {\n",
      "    list {\n",
      "      type: DT_STRING\n",
      "    }\n",
      "  }\n",
      "}\n",
      "attr {\n",
      "  key: \"_cardinality\"\n",
      "  value {\n",
      "    i: 39780\n",
      "  }\n",
      "}\n",
      "attr {\n",
      "  key: \"is_files\"\n",
      "  value {\n",
      "    b: false\n",
      "  }\n",
      "}\n",
      "attr {\n",
      "  key: \"metadata\"\n",
      "  value {\n",
      "    s: \"\\n\\024TensorSliceDataset:0\"\n",
      "  }\n",
      "}\n",
      "attr {\n",
      "  key: \"output_shapes\"\n",
      "  value {\n",
      "    list {\n",
      "      shape {\n",
      "      }\n",
      "    }\n",
      "  }\n",
      "}\n",
      "attr {\n",
      "  key: \"replicate_on_split\"\n",
      "  value {\n",
      "    b: false\n",
      "  }\n",
      "}\n",
      "experimental_type {\n",
      "  type_id: TFT_PRODUCT\n",
      "  args {\n",
      "    type_id: TFT_DATASET\n",
      "    args {\n",
      "      type_id: TFT_PRODUCT\n",
      "      args {\n",
      "        type_id: TFT_TENSOR\n",
      "        args {\n",
      "          type_id: TFT_STRING\n",
      "        }\n",
      "      }\n",
      "    }\n",
      "  }\n",
      "}\n",
      "\n"
     ]
    },
    {
     "name": "stdout",
     "output_type": "stream",
     "text": [
      "Epoch 1/40\n"
     ]
    },
    {
     "name": "stderr",
     "output_type": "stream",
     "text": [
      "2022-11-26 21:02:08.277008: I tensorflow/core/tpu/graph_rewrite/encapsulate_tpu_computations_pass.cc:237] Subgraph fingerprint:9310430552767658238\n",
      "2022-11-26 21:02:08.558547: E tensorflow/core/grappler/optimizers/meta_optimizer.cc:954] model_pruner failed: INVALID_ARGUMENT: Graph does not contain terminal node Adam/Adam/AssignAddVariableOp.\n",
      "2022-11-26 21:02:08.851919: E tensorflow/core/grappler/optimizers/meta_optimizer.cc:954] model_pruner failed: INVALID_ARGUMENT: Graph does not contain terminal node Adam/Adam/AssignAddVariableOp.\n",
      "2022-11-26 21:02:12.342639: I tensorflow/core/tpu/kernels/tpu_compilation_cache_interface.cc:437] TPU host compilation cache miss: cache_key(3385615333023655199), session_name()\n"
     ]
    },
    {
     "name": "stdout",
     "output_type": "stream",
     "text": [
      "  4/622 [..............................] - ETA: 27s - loss: 2.4539 - accuracy: 0.2852   "
     ]
    },
    {
     "name": "stderr",
     "output_type": "stream",
     "text": [
      "2022-11-26 21:02:16.083639: I tensorflow/core/tpu/kernels/tpu_compile_op_common.cc:210] Compilation of 3385615333023655199 with session name  took 3.740911305s and succeeded\n",
      "2022-11-26 21:02:16.101353: I tensorflow/core/tpu/kernels/tpu_compilation_cache_interface.cc:470] TPU host compilation cache: compilation complete for cache_key(3385615333023655199), session_name(), subgraph_key(std::string(property.function_name) = \"cluster_train_function_9310430552767658238\", property.function_library_fingerprint = 10567142977604041484, property.mlir_module_fingerprint = 0, property.num_replicas = 8, topology.chip_bounds().x = 2, topology.chip_bounds().y = 2, topology.chip_bounds().z = 1, topology.wrap().x = false, topology.wrap().y = false, topology.wrap().z = false, topology.MissingChipCount() = 0, std::string(property.shapes_prefix) = \"8,240,240,3,;8,;8,;\", property.guaranteed_constants_size = 0, embedding_partitions_fingerprint = \"1688352644216761960\")\n",
      "2022-11-26 21:02:16.101410: I tensorflow/core/tpu/kernels/tpu_compilation_cache_interface.cc:536] After adding entry for key 3385615333023655199 with session_name  cache is 1 entries (15431516 bytes),  marked for eviction 0 entries (0 bytes).\n"
     ]
    },
    {
     "name": "stdout",
     "output_type": "stream",
     "text": [
      " 86/622 [===>..........................] - ETA: 16s - loss: 1.7790 - accuracy: 0.2929"
     ]
    },
    {
     "name": "stderr",
     "output_type": "stream",
     "text": [
      "2022-11-26 21:02:18.807906: I tensorflow/core/tpu/kernels/tpu_compilation_cache_interface.cc:437] TPU host compilation cache miss: cache_key(4949885541017157960), session_name()\n"
     ]
    },
    {
     "name": "stdout",
     "output_type": "stream",
     "text": [
      " 92/622 [===>..........................] - ETA: 41s - loss: 1.8198 - accuracy: 0.2937"
     ]
    },
    {
     "name": "stderr",
     "output_type": "stream",
     "text": [
      "2022-11-26 21:02:23.017205: I tensorflow/core/tpu/kernels/tpu_compile_op_common.cc:210] Compilation of 4949885541017157960 with session name  took 4.209221275s and succeeded\n",
      "2022-11-26 21:02:23.032391: I tensorflow/core/tpu/kernels/tpu_compilation_cache_interface.cc:470] TPU host compilation cache: compilation complete for cache_key(4949885541017157960), session_name(), subgraph_key(std::string(property.function_name) = \"cluster_train_function_9310430552767658238\", property.function_library_fingerprint = 10567142977604041484, property.mlir_module_fingerprint = 0, property.num_replicas = 8, topology.chip_bounds().x = 2, topology.chip_bounds().y = 2, topology.chip_bounds().z = 1, topology.wrap().x = false, topology.wrap().y = false, topology.wrap().z = false, topology.MissingChipCount() = 0, std::string(property.shapes_prefix) = \"5,240,240,3,;5,;5,;\", property.guaranteed_constants_size = 0, embedding_partitions_fingerprint = \"1688352644216761960\")\n",
      "2022-11-26 21:02:23.032442: I tensorflow/core/tpu/kernels/tpu_compilation_cache_interface.cc:536] After adding entry for key 4949885541017157960 with session_name  cache is 2 entries (33218802 bytes),  marked for eviction 0 entries (0 bytes).\n"
     ]
    },
    {
     "name": "stdout",
     "output_type": "stream",
     "text": [
      "621/622 [============================>.] - ETA: 0s - loss: 1.5716 - accuracy: 0.3816"
     ]
    },
    {
     "name": "stderr",
     "output_type": "stream",
     "text": [
      "2022-11-26 21:02:38.348276: W tensorflow/core/grappler/optimizers/data/auto_shard.cc:776] AUTO sharding policy will apply DATA sharding policy as it failed to apply FILE sharding policy because of the following reason: Found an unshardable source dataset: name: \"TensorSliceDataset/_1\"\n",
      "op: \"TensorSliceDataset\"\n",
      "input: \"Placeholder/_0\"\n",
      "attr {\n",
      "  key: \"Toutput_types\"\n",
      "  value {\n",
      "    list {\n",
      "      type: DT_STRING\n",
      "    }\n",
      "  }\n",
      "}\n",
      "attr {\n",
      "  key: \"_cardinality\"\n",
      "  value {\n",
      "    i: 9945\n",
      "  }\n",
      "}\n",
      "attr {\n",
      "  key: \"is_files\"\n",
      "  value {\n",
      "    b: false\n",
      "  }\n",
      "}\n",
      "attr {\n",
      "  key: \"metadata\"\n",
      "  value {\n",
      "    s: \"\\n\\024TensorSliceDataset:7\"\n",
      "  }\n",
      "}\n",
      "attr {\n",
      "  key: \"output_shapes\"\n",
      "  value {\n",
      "    list {\n",
      "      shape {\n",
      "      }\n",
      "    }\n",
      "  }\n",
      "}\n",
      "attr {\n",
      "  key: \"replicate_on_split\"\n",
      "  value {\n",
      "    b: false\n",
      "  }\n",
      "}\n",
      "experimental_type {\n",
      "  type_id: TFT_PRODUCT\n",
      "  args {\n",
      "    type_id: TFT_DATASET\n",
      "    args {\n",
      "      type_id: TFT_PRODUCT\n",
      "      args {\n",
      "        type_id: TFT_TENSOR\n",
      "        args {\n",
      "          type_id: TFT_STRING\n",
      "        }\n",
      "      }\n",
      "    }\n",
      "  }\n",
      "}\n",
      "\n",
      "2022-11-26 21:02:40.720618: I tensorflow/core/tpu/graph_rewrite/encapsulate_tpu_computations_pass.cc:237] Subgraph fingerprint:11426541024698501072\n",
      "2022-11-26 21:02:40.861141: E tensorflow/core/grappler/optimizers/meta_optimizer.cc:954] model_pruner failed: INVALID_ARGUMENT: Graph does not contain terminal node AssignAddVariableOp.\n",
      "2022-11-26 21:02:41.082169: E tensorflow/core/grappler/optimizers/meta_optimizer.cc:954] model_pruner failed: INVALID_ARGUMENT: Graph does not contain terminal node AssignAddVariableOp.\n",
      "2022-11-26 21:02:41.623067: I tensorflow/core/tpu/kernels/tpu_compilation_cache_interface.cc:437] TPU host compilation cache miss: cache_key(6373179607447795920), session_name()\n",
      "2022-11-26 21:02:45.052299: I tensorflow/core/tpu/kernels/tpu_compile_op_common.cc:210] Compilation of 6373179607447795920 with session name  took 3.429152128s and succeeded\n",
      "2022-11-26 21:02:45.065970: I tensorflow/core/tpu/kernels/tpu_compilation_cache_interface.cc:470] TPU host compilation cache: compilation complete for cache_key(6373179607447795920), session_name(), subgraph_key(std::string(property.function_name) = \"cluster_test_function_11426541024698501072\", property.function_library_fingerprint = 16019940331598834773, property.mlir_module_fingerprint = 0, property.num_replicas = 8, topology.chip_bounds().x = 2, topology.chip_bounds().y = 2, topology.chip_bounds().z = 1, topology.wrap().x = false, topology.wrap().y = false, topology.wrap().z = false, topology.MissingChipCount() = 0, std::string(property.shapes_prefix) = \"8,240,240,3,;8,;\", property.guaranteed_constants_size = 0, embedding_partitions_fingerprint = \"1688352644216761960\")\n",
      "2022-11-26 21:02:45.066025: I tensorflow/core/tpu/kernels/tpu_compilation_cache_interface.cc:536] After adding entry for key 6373179607447795920 with session_name  cache is 3 entries (47729909 bytes),  marked for eviction 0 entries (0 bytes).\n",
      "2022-11-26 21:02:49.503606: I tensorflow/core/tpu/kernels/tpu_compilation_cache_interface.cc:437] TPU host compilation cache miss: cache_key(16861806487957520666), session_name()\n"
     ]
    },
    {
     "name": "stdout",
     "output_type": "stream",
     "text": [
      "622/622 [==============================] - 50s 60ms/step - loss: 1.5710 - accuracy: 0.3816 - val_loss: 1.2650 - val_accuracy: 0.4978\n"
     ]
    },
    {
     "name": "stderr",
     "output_type": "stream",
     "text": [
      "2022-11-26 21:02:53.215031: I tensorflow/core/tpu/kernels/tpu_compile_op_common.cc:210] Compilation of 16861806487957520666 with session name  took 3.711329165s and succeeded\n",
      "2022-11-26 21:02:53.231392: I tensorflow/core/tpu/kernels/tpu_compilation_cache_interface.cc:470] TPU host compilation cache: compilation complete for cache_key(16861806487957520666), session_name(), subgraph_key(std::string(property.function_name) = \"cluster_test_function_11426541024698501072\", property.function_library_fingerprint = 16019940331598834773, property.mlir_module_fingerprint = 0, property.num_replicas = 8, topology.chip_bounds().x = 2, topology.chip_bounds().y = 2, topology.chip_bounds().z = 1, topology.wrap().x = false, topology.wrap().y = false, topology.wrap().z = false, topology.MissingChipCount() = 0, std::string(property.shapes_prefix) = \"4,240,240,3,;4,;\", property.guaranteed_constants_size = 0, embedding_partitions_fingerprint = \"1688352644216761960\")\n",
      "2022-11-26 21:02:53.231443: I tensorflow/core/tpu/kernels/tpu_compilation_cache_interface.cc:536] After adding entry for key 16861806487957520666 with session_name  cache is 4 entries (62711002 bytes),  marked for eviction 0 entries (0 bytes).\n"
     ]
    },
    {
     "name": "stdout",
     "output_type": "stream",
     "text": [
      "Epoch 2/40\n",
      "622/622 [==============================] - 23s 36ms/step - loss: 1.4052 - accuracy: 0.4510 - val_loss: 1.2781 - val_accuracy: 0.4644\n",
      "Epoch 3/40\n",
      "622/622 [==============================] - 23s 37ms/step - loss: 1.3491 - accuracy: 0.4762 - val_loss: 1.1173 - val_accuracy: 0.5933\n",
      "Epoch 4/40\n",
      "622/622 [==============================] - 22s 36ms/step - loss: 1.3143 - accuracy: 0.4952 - val_loss: 1.1994 - val_accuracy: 0.5176\n",
      "Epoch 5/40\n",
      "622/622 [==============================] - 22s 35ms/step - loss: 1.2743 - accuracy: 0.5095 - val_loss: 1.0878 - val_accuracy: 0.5906\n",
      "Epoch 6/40\n",
      "622/622 [==============================] - 21s 34ms/step - loss: 1.2565 - accuracy: 0.5173 - val_loss: 1.0839 - val_accuracy: 0.5927\n",
      "Epoch 7/40\n",
      "622/622 [==============================] - 21s 34ms/step - loss: 1.2342 - accuracy: 0.5274 - val_loss: 1.1180 - val_accuracy: 0.5438\n",
      "Epoch 8/40\n",
      "622/622 [==============================] - 22s 35ms/step - loss: 1.2147 - accuracy: 0.5363 - val_loss: 1.1323 - val_accuracy: 0.5454\n",
      "Epoch 9/40\n",
      "622/622 [==============================] - 21s 34ms/step - loss: 1.1919 - accuracy: 0.5402 - val_loss: 1.0783 - val_accuracy: 0.5808\n",
      "Epoch 10/40\n",
      "622/622 [==============================] - 22s 35ms/step - loss: 1.1834 - accuracy: 0.5453 - val_loss: 1.1052 - val_accuracy: 0.5701\n",
      "Epoch 11/40\n",
      "622/622 [==============================] - 22s 35ms/step - loss: 1.1686 - accuracy: 0.5487 - val_loss: 1.0966 - val_accuracy: 0.5642\n",
      "Epoch 12/40\n",
      "622/622 [==============================] - 22s 35ms/step - loss: 1.1579 - accuracy: 0.5525 - val_loss: 1.0613 - val_accuracy: 0.5846\n",
      "Epoch 13/40\n",
      "622/622 [==============================] - 22s 35ms/step - loss: 1.1501 - accuracy: 0.5572 - val_loss: 1.0921 - val_accuracy: 0.5606\n",
      "Epoch 14/40\n",
      "622/622 [==============================] - 21s 34ms/step - loss: 1.1455 - accuracy: 0.5590 - val_loss: 0.9902 - val_accuracy: 0.6353\n",
      "Epoch 15/40\n",
      "622/622 [==============================] - 21s 33ms/step - loss: 1.1344 - accuracy: 0.5641 - val_loss: 1.0054 - val_accuracy: 0.6201\n",
      "Epoch 16/40\n",
      "622/622 [==============================] - 21s 34ms/step - loss: 1.1213 - accuracy: 0.5666 - val_loss: 1.0569 - val_accuracy: 0.5883\n",
      "Epoch 17/40\n",
      "622/622 [==============================] - 22s 35ms/step - loss: 1.1147 - accuracy: 0.5700 - val_loss: 1.0391 - val_accuracy: 0.5924\n",
      "Epoch 18/40\n",
      "622/622 [==============================] - 21s 34ms/step - loss: 1.1058 - accuracy: 0.5701 - val_loss: 1.0206 - val_accuracy: 0.5951\n",
      "Epoch 19/40\n",
      "622/622 [==============================] - 21s 33ms/step - loss: 1.1033 - accuracy: 0.5705 - val_loss: 1.0165 - val_accuracy: 0.6153\n",
      "Epoch 20/40\n",
      "622/622 [==============================] - 21s 34ms/step - loss: 1.0920 - accuracy: 0.5787 - val_loss: 1.0217 - val_accuracy: 0.6057\n",
      "Epoch 21/40\n",
      "622/622 [==============================] - 21s 34ms/step - loss: 1.0868 - accuracy: 0.5804 - val_loss: 1.0443 - val_accuracy: 0.5916\n",
      "Epoch 22/40\n",
      "622/622 [==============================] - 22s 36ms/step - loss: 1.0819 - accuracy: 0.5786 - val_loss: 1.0503 - val_accuracy: 0.5830\n",
      "Epoch 23/40\n",
      "622/622 [==============================] - 21s 34ms/step - loss: 1.0862 - accuracy: 0.5765 - val_loss: 0.9814 - val_accuracy: 0.6191\n",
      "Epoch 24/40\n",
      "622/622 [==============================] - 22s 35ms/step - loss: 1.0677 - accuracy: 0.5869 - val_loss: 0.9792 - val_accuracy: 0.6254\n",
      "Epoch 25/40\n",
      "622/622 [==============================] - 21s 34ms/step - loss: 1.0593 - accuracy: 0.5837 - val_loss: 1.0071 - val_accuracy: 0.6136\n",
      "Epoch 26/40\n",
      "622/622 [==============================] - 21s 34ms/step - loss: 1.0565 - accuracy: 0.5872 - val_loss: 1.0122 - val_accuracy: 0.6010\n",
      "Epoch 27/40\n",
      "622/622 [==============================] - 22s 35ms/step - loss: 1.0637 - accuracy: 0.5857 - val_loss: 0.9803 - val_accuracy: 0.6233\n",
      "Epoch 28/40\n",
      "622/622 [==============================] - 21s 34ms/step - loss: 1.0496 - accuracy: 0.5843 - val_loss: 0.9580 - val_accuracy: 0.6368\n",
      "Epoch 29/40\n",
      "622/622 [==============================] - 21s 34ms/step - loss: 1.0539 - accuracy: 0.5895 - val_loss: 0.9846 - val_accuracy: 0.6201\n",
      "Epoch 30/40\n",
      "622/622 [==============================] - 22s 36ms/step - loss: 1.0419 - accuracy: 0.5895 - val_loss: 0.9955 - val_accuracy: 0.6124\n",
      "Epoch 31/40\n",
      "622/622 [==============================] - 21s 34ms/step - loss: 1.0429 - accuracy: 0.5906 - val_loss: 0.9443 - val_accuracy: 0.6501\n",
      "Epoch 32/40\n",
      "622/622 [==============================] - 21s 34ms/step - loss: 1.0413 - accuracy: 0.5924 - val_loss: 0.9562 - val_accuracy: 0.6412\n",
      "Epoch 33/40\n",
      "622/622 [==============================] - 21s 34ms/step - loss: 1.0335 - accuracy: 0.5928 - val_loss: 0.9672 - val_accuracy: 0.6339\n",
      "Epoch 34/40\n",
      "622/622 [==============================] - 21s 34ms/step - loss: 1.0284 - accuracy: 0.5947 - val_loss: 1.0268 - val_accuracy: 0.5840\n",
      "Epoch 35/40\n",
      "622/622 [==============================] - 21s 34ms/step - loss: 1.0204 - accuracy: 0.5996 - val_loss: 0.9912 - val_accuracy: 0.6118\n",
      "Epoch 36/40\n",
      "622/622 [==============================] - 21s 34ms/step - loss: 1.0222 - accuracy: 0.5950 - val_loss: 0.9795 - val_accuracy: 0.6057\n",
      "Epoch 37/40\n",
      "622/622 [==============================] - 22s 35ms/step - loss: 1.0166 - accuracy: 0.5974 - val_loss: 0.9185 - val_accuracy: 0.6547\n",
      "Epoch 38/40\n",
      "622/622 [==============================] - 21s 34ms/step - loss: 1.0182 - accuracy: 0.5971 - val_loss: 0.9954 - val_accuracy: 0.6048\n",
      "Epoch 39/40\n",
      "622/622 [==============================] - 21s 34ms/step - loss: 1.0097 - accuracy: 0.5955 - val_loss: 0.9581 - val_accuracy: 0.6239\n",
      "Epoch 40/40\n",
      "622/622 [==============================] - 21s 34ms/step - loss: 1.0144 - accuracy: 0.5998 - val_loss: 0.9617 - val_accuracy: 0.6272\n"
     ]
    }
   ],
   "source": [
    "small_model_epochs=40\n",
    "history_model_fixed_base = model_fixed_base.fit(\n",
    "  train_ds,\n",
    "  validation_data=val_ds,\n",
    "  epochs=small_model_epochs,\n",
    "  class_weight=class_weight\n",
    ")"
   ]
  },
  {
   "cell_type": "code",
   "execution_count": 25,
   "metadata": {},
   "outputs": [
    {
     "data": {
      "image/png": "[encoded data removed]",
      "text/plain": [
       "<Figure size 800x800 with 2 Axes>"
      ]
     },
     "metadata": {},
     "output_type": "display_data"
    }
   ],
   "source": [
    "acc = history_model_fixed_base.history['accuracy']\n",
    "val_acc = history_model_fixed_base.history['val_accuracy']\n",
    "\n",
    "loss = history_model_fixed_base.history['loss']\n",
    "val_loss = history_model_fixed_base.history['val_loss']\n",
    "\n",
    "epochs_range = range(small_model_epochs)\n",
    "\n",
    "plt.figure(figsize=(8, 8))\n",
    "plt.subplot(1, 2, 1)\n",
    "plt.plot(epochs_range, acc, label='Training Accuracy')\n",
    "plt.plot(epochs_range, val_acc, label='Validation Accuracy')\n",
    "plt.legend(loc='lower right')\n",
    "plt.title('Training and Validation Accuracy')\n",
    "\n",
    "plt.subplot(1, 2, 2)\n",
    "plt.plot(epochs_range, loss, label='Training Loss')\n",
    "plt.plot(epochs_range, val_loss, label='Validation Loss')\n",
    "plt.legend(loc='upper right')\n",
    "plt.title('Training and Validation Loss')\n",
    "plt.show()"
   ]
  },
  {
   "cell_type": "code",
   "execution_count": 19,
   "metadata": {},
   "outputs": [],
   "source": [
    "trained_base_model.trainable = True"
   ]
  },
  {
   "cell_type": "code",
   "execution_count": 20,
   "metadata": {},
   "outputs": [],
   "source": [
    "fine_tune_at = 100\n",
    "\n",
    "# Freeze all the layers before the `fine_tune_at` layer\n",
    "for layer in trained_base_model.layers[:fine_tune_at]:\n",
    "  layer.trainable = False"
   ]
  },
  {
   "cell_type": "code",
   "execution_count": 21,
   "metadata": {},
   "outputs": [],
   "source": [
    "with strategy.scope():\n",
    "  model_fixed_base.compile(optimizer=tf.keras.optimizers.Adam(learning_rate=0.00001),\n",
    "                  loss=tf.keras.losses.SparseCategoricalCrossentropy(from_logits=True),\n",
    "                  metrics=['accuracy']\n",
    "  )"
   ]
  },
  {
   "cell_type": "code",
   "execution_count": 22,
   "metadata": {},
   "outputs": [
    {
     "name": "stdout",
     "output_type": "stream",
     "text": [
      "Model: \"model\"\n",
      "_________________________________________________________________\n",
      " Layer (type)                Output Shape              Param #   \n",
      "=================================================================\n",
      " input_2 (InputLayer)        [(None, 240, 240, 3)]     0         \n",
      "                                                                 \n",
      " cropping2d (Cropping2D)     (None, 224, 224, 3)       0         \n",
      "                                                                 \n",
      " rescaling_1 (Rescaling)     (None, 224, 224, 3)       0         \n",
      "                                                                 \n",
      " mobilenetv2_1.00_224 (Funct  (None, 7, 7, 1280)       2257984   \n",
      " ional)                                                          \n",
      "                                                                 \n",
      " global_average_pooling2d (G  (None, 1280)             0         \n",
      " lobalAveragePooling2D)                                          \n",
      "                                                                 \n",
      " dropout (Dropout)           (None, 1280)              0         \n",
      "                                                                 \n",
      " dense (Dense)               (None, 5)                 6405      \n",
      "                                                                 \n",
      "=================================================================\n",
      "Total params: 2,264,389\n",
      "Trainable params: 1,867,845\n",
      "Non-trainable params: 396,544\n",
      "_________________________________________________________________\n"
     ]
    }
   ],
   "source": [
    "model_fixed_base.summary()"
   ]
  },
  {
   "cell_type": "code",
   "execution_count": 23,
   "metadata": {},
   "outputs": [
    {
     "name": "stderr",
     "output_type": "stream",
     "text": [
      "2022-11-26 21:17:11.468143: W tensorflow/core/grappler/optimizers/data/auto_shard.cc:776] AUTO sharding policy will apply DATA sharding policy as it failed to apply FILE sharding policy because of the following reason: Found an unshardable source dataset: name: \"TensorSliceDataset/_1\"\n",
      "op: \"TensorSliceDataset\"\n",
      "input: \"Placeholder/_0\"\n",
      "attr {\n",
      "  key: \"Toutput_types\"\n",
      "  value {\n",
      "    list {\n",
      "      type: DT_STRING\n",
      "    }\n",
      "  }\n",
      "}\n",
      "attr {\n",
      "  key: \"_cardinality\"\n",
      "  value {\n",
      "    i: 39780\n",
      "  }\n",
      "}\n",
      "attr {\n",
      "  key: \"is_files\"\n",
      "  value {\n",
      "    b: false\n",
      "  }\n",
      "}\n",
      "attr {\n",
      "  key: \"metadata\"\n",
      "  value {\n",
      "    s: \"\\n\\024TensorSliceDataset:0\"\n",
      "  }\n",
      "}\n",
      "attr {\n",
      "  key: \"output_shapes\"\n",
      "  value {\n",
      "    list {\n",
      "      shape {\n",
      "      }\n",
      "    }\n",
      "  }\n",
      "}\n",
      "attr {\n",
      "  key: \"replicate_on_split\"\n",
      "  value {\n",
      "    b: false\n",
      "  }\n",
      "}\n",
      "experimental_type {\n",
      "  type_id: TFT_PRODUCT\n",
      "  args {\n",
      "    type_id: TFT_DATASET\n",
      "    args {\n",
      "      type_id: TFT_PRODUCT\n",
      "      args {\n",
      "        type_id: TFT_TENSOR\n",
      "        args {\n",
      "          type_id: TFT_STRING\n",
      "        }\n",
      "      }\n",
      "    }\n",
      "  }\n",
      "}\n",
      "\n"
     ]
    },
    {
     "name": "stdout",
     "output_type": "stream",
     "text": [
      "Epoch 40/120\n"
     ]
    },
    {
     "name": "stderr",
     "output_type": "stream",
     "text": [
      "2022-11-26 21:17:21.047027: I tensorflow/core/tpu/graph_rewrite/encapsulate_tpu_computations_pass.cc:237] Subgraph fingerprint:6827512776956189194\n",
      "2022-11-26 21:17:21.501389: E tensorflow/core/grappler/optimizers/meta_optimizer.cc:954] model_pruner failed: INVALID_ARGUMENT: Graph does not contain terminal node Adam/Adam/AssignAddVariableOp.\n",
      "2022-11-26 21:17:21.910177: E tensorflow/core/grappler/optimizers/meta_optimizer.cc:954] model_pruner failed: INVALID_ARGUMENT: Graph does not contain terminal node Adam/Adam/AssignAddVariableOp.\n",
      "2022-11-26 21:17:22.575158: I tensorflow/core/tpu/kernels/tpu_compilation_cache_interface.cc:437] TPU host compilation cache miss: cache_key(14945886638922767293), session_name()\n"
     ]
    },
    {
     "name": "stdout",
     "output_type": "stream",
     "text": [
      "  5/622 [..............................] - ETA: 20s - loss: 0.8577 - accuracy: 0.6375   "
     ]
    },
    {
     "name": "stderr",
     "output_type": "stream",
     "text": [
      "2022-11-26 21:17:28.827279: I tensorflow/core/tpu/kernels/tpu_compile_op_common.cc:210] Compilation of 14945886638922767293 with session name  took 6.251989463s and succeeded\n",
      "2022-11-26 21:17:28.859920: I tensorflow/core/tpu/kernels/tpu_compilation_cache_interface.cc:470] TPU host compilation cache: compilation complete for cache_key(14945886638922767293), session_name(), subgraph_key(std::string(property.function_name) = \"cluster_train_function_6827512776956189194\", property.function_library_fingerprint = 6796667587271004529, property.mlir_module_fingerprint = 0, property.num_replicas = 8, topology.chip_bounds().x = 2, topology.chip_bounds().y = 2, topology.chip_bounds().z = 1, topology.wrap().x = false, topology.wrap().y = false, topology.wrap().z = false, topology.MissingChipCount() = 0, std::string(property.shapes_prefix) = \"8,240,240,3,;8,;8,;\", property.guaranteed_constants_size = 0, embedding_partitions_fingerprint = \"1688352644216761960\")\n",
      "2022-11-26 21:17:28.859983: I tensorflow/core/tpu/kernels/tpu_compilation_cache_interface.cc:536] After adding entry for key 14945886638922767293 with session_name  cache is 5 entries (94086056 bytes),  marked for eviction 0 entries (0 bytes).\n"
     ]
    },
    {
     "name": "stdout",
     "output_type": "stream",
     "text": [
      "170/622 [=======>......................] - ETA: 14s - loss: 1.0752 - accuracy: 0.5928"
     ]
    },
    {
     "name": "stderr",
     "output_type": "stream",
     "text": [
      "2022-11-26 21:17:34.388579: I tensorflow/core/tpu/kernels/tpu_compilation_cache_interface.cc:437] TPU host compilation cache miss: cache_key(12752041661908486558), session_name()\n"
     ]
    },
    {
     "name": "stdout",
     "output_type": "stream",
     "text": [
      "174/622 [=======>......................] - ETA: 32s - loss: 1.0752 - accuracy: 0.5934"
     ]
    },
    {
     "name": "stderr",
     "output_type": "stream",
     "text": [
      "2022-11-26 21:17:41.265602: I tensorflow/core/tpu/kernels/tpu_compile_op_common.cc:210] Compilation of 12752041661908486558 with session name  took 6.876923402s and succeeded\n",
      "2022-11-26 21:17:41.297064: I tensorflow/core/tpu/kernels/tpu_compilation_cache_interface.cc:470] TPU host compilation cache: compilation complete for cache_key(12752041661908486558), session_name(), subgraph_key(std::string(property.function_name) = \"cluster_train_function_6827512776956189194\", property.function_library_fingerprint = 6796667587271004529, property.mlir_module_fingerprint = 0, property.num_replicas = 8, topology.chip_bounds().x = 2, topology.chip_bounds().y = 2, topology.chip_bounds().z = 1, topology.wrap().x = false, topology.wrap().y = false, topology.wrap().z = false, topology.MissingChipCount() = 0, std::string(property.shapes_prefix) = \"5,240,240,3,;5,;5,;\", property.guaranteed_constants_size = 0, embedding_partitions_fingerprint = \"1688352644216761960\")\n",
      "2022-11-26 21:17:41.297136: I tensorflow/core/tpu/kernels/tpu_compilation_cache_interface.cc:536] After adding entry for key 12752041661908486558 with session_name  cache is 6 entries (129792500 bytes),  marked for eviction 0 entries (0 bytes).\n"
     ]
    },
    {
     "name": "stdout",
     "output_type": "stream",
     "text": [
      "622/622 [==============================] - ETA: 0s - loss: 1.0558 - accuracy: 0.5934"
     ]
    },
    {
     "name": "stderr",
     "output_type": "stream",
     "text": [
      "2022-11-26 21:17:54.943099: W tensorflow/core/grappler/optimizers/data/auto_shard.cc:776] AUTO sharding policy will apply DATA sharding policy as it failed to apply FILE sharding policy because of the following reason: Found an unshardable source dataset: name: \"TensorSliceDataset/_1\"\n",
      "op: \"TensorSliceDataset\"\n",
      "input: \"Placeholder/_0\"\n",
      "attr {\n",
      "  key: \"Toutput_types\"\n",
      "  value {\n",
      "    list {\n",
      "      type: DT_STRING\n",
      "    }\n",
      "  }\n",
      "}\n",
      "attr {\n",
      "  key: \"_cardinality\"\n",
      "  value {\n",
      "    i: 9945\n",
      "  }\n",
      "}\n",
      "attr {\n",
      "  key: \"is_files\"\n",
      "  value {\n",
      "    b: false\n",
      "  }\n",
      "}\n",
      "attr {\n",
      "  key: \"metadata\"\n",
      "  value {\n",
      "    s: \"\\n\\024TensorSliceDataset:7\"\n",
      "  }\n",
      "}\n",
      "attr {\n",
      "  key: \"output_shapes\"\n",
      "  value {\n",
      "    list {\n",
      "      shape {\n",
      "      }\n",
      "    }\n",
      "  }\n",
      "}\n",
      "attr {\n",
      "  key: \"replicate_on_split\"\n",
      "  value {\n",
      "    b: false\n",
      "  }\n",
      "}\n",
      "experimental_type {\n",
      "  type_id: TFT_PRODUCT\n",
      "  args {\n",
      "    type_id: TFT_DATASET\n",
      "    args {\n",
      "      type_id: TFT_PRODUCT\n",
      "      args {\n",
      "        type_id: TFT_TENSOR\n",
      "        args {\n",
      "          type_id: TFT_STRING\n",
      "        }\n",
      "      }\n",
      "    }\n",
      "  }\n",
      "}\n",
      "\n",
      "2022-11-26 21:17:57.252251: I tensorflow/core/tpu/graph_rewrite/encapsulate_tpu_computations_pass.cc:237] Subgraph fingerprint:11426541024698501072\n",
      "2022-11-26 21:17:57.393654: E tensorflow/core/grappler/optimizers/meta_optimizer.cc:954] model_pruner failed: INVALID_ARGUMENT: Graph does not contain terminal node AssignAddVariableOp.\n",
      "2022-11-26 21:17:57.606197: E tensorflow/core/grappler/optimizers/meta_optimizer.cc:954] model_pruner failed: INVALID_ARGUMENT: Graph does not contain terminal node AssignAddVariableOp.\n"
     ]
    },
    {
     "name": "stdout",
     "output_type": "stream",
     "text": [
      "622/622 [==============================] - 49s 53ms/step - loss: 1.0558 - accuracy: 0.5934 - val_loss: 1.1203 - val_accuracy: 0.5476\n",
      "Epoch 41/120\n",
      "622/622 [==============================] - 23s 38ms/step - loss: 0.9187 - accuracy: 0.6338 - val_loss: 0.9572 - val_accuracy: 0.6066\n",
      "Epoch 42/120\n",
      "622/622 [==============================] - 23s 38ms/step - loss: 0.8573 - accuracy: 0.6520 - val_loss: 0.7988 - val_accuracy: 0.6626\n",
      "Epoch 43/120\n",
      "622/622 [==============================] - 24s 38ms/step - loss: 0.7795 - accuracy: 0.6714 - val_loss: 0.7806 - val_accuracy: 0.6735\n",
      "Epoch 44/120\n",
      "622/622 [==============================] - 24s 38ms/step - loss: 0.7298 - accuracy: 0.6877 - val_loss: 0.7720 - val_accuracy: 0.6778\n",
      "Epoch 45/120\n",
      "622/622 [==============================] - 24s 38ms/step - loss: 0.6726 - accuracy: 0.7010 - val_loss: 0.6853 - val_accuracy: 0.7324\n",
      "Epoch 46/120\n",
      "622/622 [==============================] - 23s 38ms/step - loss: 0.6217 - accuracy: 0.7194 - val_loss: 0.7175 - val_accuracy: 0.7052\n",
      "Epoch 47/120\n",
      "622/622 [==============================] - 23s 38ms/step - loss: 0.5939 - accuracy: 0.7305 - val_loss: 0.7517 - val_accuracy: 0.6748\n",
      "Epoch 48/120\n",
      "622/622 [==============================] - 23s 38ms/step - loss: 0.5569 - accuracy: 0.7427 - val_loss: 0.6537 - val_accuracy: 0.7394\n",
      "Epoch 49/120\n",
      "622/622 [==============================] - 23s 37ms/step - loss: 0.5239 - accuracy: 0.7555 - val_loss: 0.7008 - val_accuracy: 0.7256\n",
      "Epoch 50/120\n",
      "622/622 [==============================] - 24s 38ms/step - loss: 0.4911 - accuracy: 0.7685 - val_loss: 0.6058 - val_accuracy: 0.7594\n",
      "Epoch 51/120\n",
      "622/622 [==============================] - 24s 38ms/step - loss: 0.4631 - accuracy: 0.7772 - val_loss: 0.5932 - val_accuracy: 0.7605\n",
      "Epoch 52/120\n",
      "622/622 [==============================] - 24s 38ms/step - loss: 0.4350 - accuracy: 0.7909 - val_loss: 0.6367 - val_accuracy: 0.7377\n",
      "Epoch 53/120\n",
      "622/622 [==============================] - 23s 37ms/step - loss: 0.4326 - accuracy: 0.7966 - val_loss: 0.5549 - val_accuracy: 0.7914\n",
      "Epoch 54/120\n",
      "622/622 [==============================] - 23s 37ms/step - loss: 0.4012 - accuracy: 0.8038 - val_loss: 0.5530 - val_accuracy: 0.7874\n",
      "Epoch 55/120\n",
      "622/622 [==============================] - 23s 37ms/step - loss: 0.3646 - accuracy: 0.8224 - val_loss: 0.4855 - val_accuracy: 0.8128\n",
      "Epoch 56/120\n",
      "622/622 [==============================] - 25s 40ms/step - loss: 0.3493 - accuracy: 0.8288 - val_loss: 0.5694 - val_accuracy: 0.7804\n",
      "Epoch 57/120\n",
      "622/622 [==============================] - 23s 38ms/step - loss: 0.3231 - accuracy: 0.8368 - val_loss: 0.4955 - val_accuracy: 0.8069\n",
      "Epoch 58/120\n",
      "622/622 [==============================] - 23s 37ms/step - loss: 0.3045 - accuracy: 0.8459 - val_loss: 0.4634 - val_accuracy: 0.8238\n",
      "Epoch 59/120\n",
      "622/622 [==============================] - 23s 38ms/step - loss: 0.2874 - accuracy: 0.8522 - val_loss: 0.4467 - val_accuracy: 0.8301\n",
      "Epoch 60/120\n",
      "622/622 [==============================] - 24s 38ms/step - loss: 0.2724 - accuracy: 0.8625 - val_loss: 0.4819 - val_accuracy: 0.8193\n",
      "Epoch 61/120\n",
      "622/622 [==============================] - 24s 38ms/step - loss: 0.2507 - accuracy: 0.8730 - val_loss: 0.4455 - val_accuracy: 0.8333\n",
      "Epoch 62/120\n",
      "622/622 [==============================] - 23s 38ms/step - loss: 0.2349 - accuracy: 0.8786 - val_loss: 0.4902 - val_accuracy: 0.8166\n",
      "Epoch 63/120\n",
      "622/622 [==============================] - 23s 37ms/step - loss: 0.2244 - accuracy: 0.8861 - val_loss: 0.4345 - val_accuracy: 0.8400\n",
      "Epoch 64/120\n",
      "622/622 [==============================] - 23s 38ms/step - loss: 0.2074 - accuracy: 0.8912 - val_loss: 0.4372 - val_accuracy: 0.8396\n",
      "Epoch 65/120\n",
      "622/622 [==============================] - 24s 39ms/step - loss: 0.1994 - accuracy: 0.8974 - val_loss: 0.4716 - val_accuracy: 0.8266\n",
      "Epoch 66/120\n",
      "622/622 [==============================] - 23s 38ms/step - loss: 0.1895 - accuracy: 0.9023 - val_loss: 0.4208 - val_accuracy: 0.8473\n",
      "Epoch 67/120\n",
      "622/622 [==============================] - 24s 38ms/step - loss: 0.1764 - accuracy: 0.9091 - val_loss: 0.4198 - val_accuracy: 0.8540\n",
      "Epoch 68/120\n",
      "622/622 [==============================] - 23s 37ms/step - loss: 0.1627 - accuracy: 0.9171 - val_loss: 0.4257 - val_accuracy: 0.8481\n",
      "Epoch 69/120\n",
      "622/622 [==============================] - 23s 37ms/step - loss: 0.1578 - accuracy: 0.9206 - val_loss: 0.4358 - val_accuracy: 0.8470\n",
      "Epoch 70/120\n",
      "622/622 [==============================] - 23s 38ms/step - loss: 0.1459 - accuracy: 0.9251 - val_loss: 0.4016 - val_accuracy: 0.8637\n",
      "Epoch 71/120\n",
      "622/622 [==============================] - 23s 38ms/step - loss: 0.1418 - accuracy: 0.9274 - val_loss: 0.4056 - val_accuracy: 0.8623\n",
      "Epoch 72/120\n",
      "622/622 [==============================] - 23s 38ms/step - loss: 0.1274 - accuracy: 0.9349 - val_loss: 0.4214 - val_accuracy: 0.8679\n",
      "Epoch 73/120\n",
      "622/622 [==============================] - 23s 38ms/step - loss: 0.1148 - accuracy: 0.9401 - val_loss: 0.4206 - val_accuracy: 0.8603\n",
      "Epoch 74/120\n",
      "622/622 [==============================] - 24s 38ms/step - loss: 0.1180 - accuracy: 0.9425 - val_loss: 0.4164 - val_accuracy: 0.8630\n",
      "Epoch 75/120\n",
      "622/622 [==============================] - 24s 38ms/step - loss: 0.1046 - accuracy: 0.9478 - val_loss: 0.4081 - val_accuracy: 0.8673\n",
      "Epoch 76/120\n",
      "622/622 [==============================] - 23s 37ms/step - loss: 0.0964 - accuracy: 0.9523 - val_loss: 0.4265 - val_accuracy: 0.8674\n",
      "Epoch 77/120\n",
      "622/622 [==============================] - 24s 39ms/step - loss: 0.0925 - accuracy: 0.9535 - val_loss: 0.4313 - val_accuracy: 0.8696\n",
      "Epoch 78/120\n",
      "622/622 [==============================] - 23s 38ms/step - loss: 0.0801 - accuracy: 0.9603 - val_loss: 0.4124 - val_accuracy: 0.8729\n",
      "Epoch 79/120\n",
      "622/622 [==============================] - 23s 38ms/step - loss: 0.0834 - accuracy: 0.9595 - val_loss: 0.4398 - val_accuracy: 0.8682\n",
      "Epoch 80/120\n",
      "622/622 [==============================] - 24s 38ms/step - loss: 0.0753 - accuracy: 0.9640 - val_loss: 0.4686 - val_accuracy: 0.8579\n",
      "Epoch 81/120\n",
      "622/622 [==============================] - 23s 38ms/step - loss: 0.0731 - accuracy: 0.9654 - val_loss: 0.4646 - val_accuracy: 0.8703\n",
      "Epoch 82/120\n",
      "622/622 [==============================] - 23s 37ms/step - loss: 0.0626 - accuracy: 0.9714 - val_loss: 0.4327 - val_accuracy: 0.8767\n",
      "Epoch 83/120\n",
      "622/622 [==============================] - 23s 37ms/step - loss: 0.0552 - accuracy: 0.9754 - val_loss: 0.4371 - val_accuracy: 0.8787\n",
      "Epoch 84/120\n",
      "622/622 [==============================] - 23s 37ms/step - loss: 0.0608 - accuracy: 0.9713 - val_loss: 0.4491 - val_accuracy: 0.8710\n",
      "Epoch 85/120\n",
      "622/622 [==============================] - 23s 38ms/step - loss: 0.0628 - accuracy: 0.9722 - val_loss: 0.4363 - val_accuracy: 0.8735\n",
      "Epoch 86/120\n",
      "622/622 [==============================] - 24s 39ms/step - loss: 0.0442 - accuracy: 0.9819 - val_loss: 0.4511 - val_accuracy: 0.8787\n",
      "Epoch 87/120\n",
      "622/622 [==============================] - 23s 38ms/step - loss: 0.0383 - accuracy: 0.9843 - val_loss: 0.4405 - val_accuracy: 0.8812\n",
      "Epoch 88/120\n",
      "622/622 [==============================] - 23s 38ms/step - loss: 0.0446 - accuracy: 0.9806 - val_loss: 0.4924 - val_accuracy: 0.8719\n",
      "Epoch 89/120\n",
      "622/622 [==============================] - 23s 38ms/step - loss: 0.0363 - accuracy: 0.9848 - val_loss: 0.4800 - val_accuracy: 0.8710\n",
      "Epoch 90/120\n",
      "622/622 [==============================] - 24s 39ms/step - loss: 0.0316 - accuracy: 0.9875 - val_loss: 0.4835 - val_accuracy: 0.8842\n",
      "Epoch 91/120\n",
      "622/622 [==============================] - 23s 38ms/step - loss: 0.0281 - accuracy: 0.9882 - val_loss: 0.4988 - val_accuracy: 0.8779\n",
      "Epoch 92/120\n",
      "622/622 [==============================] - 23s 38ms/step - loss: 0.0341 - accuracy: 0.9858 - val_loss: 0.5050 - val_accuracy: 0.8826\n",
      "Epoch 93/120\n",
      "622/622 [==============================] - 23s 38ms/step - loss: 0.0250 - accuracy: 0.9901 - val_loss: 0.5592 - val_accuracy: 0.8691\n",
      "Epoch 94/120\n",
      "622/622 [==============================] - 23s 38ms/step - loss: 0.0341 - accuracy: 0.9861 - val_loss: 0.4990 - val_accuracy: 0.8801\n",
      "Epoch 95/120\n",
      "622/622 [==============================] - 24s 38ms/step - loss: 0.0198 - accuracy: 0.9924 - val_loss: 0.4973 - val_accuracy: 0.8827\n",
      "Epoch 96/120\n",
      "622/622 [==============================] - 24s 38ms/step - loss: 0.0178 - accuracy: 0.9935 - val_loss: 0.5110 - val_accuracy: 0.8842\n",
      "Epoch 97/120\n",
      "622/622 [==============================] - 23s 37ms/step - loss: 0.0352 - accuracy: 0.9853 - val_loss: 0.5265 - val_accuracy: 0.8783\n",
      "Epoch 98/120\n",
      "622/622 [==============================] - 24s 39ms/step - loss: 0.0191 - accuracy: 0.9926 - val_loss: 0.5071 - val_accuracy: 0.8906\n",
      "Epoch 99/120\n",
      "622/622 [==============================] - 24s 38ms/step - loss: 0.0139 - accuracy: 0.9953 - val_loss: 0.5198 - val_accuracy: 0.8909\n",
      "Epoch 100/120\n",
      "622/622 [==============================] - 23s 38ms/step - loss: 0.0508 - accuracy: 0.9796 - val_loss: 0.4400 - val_accuracy: 0.8821\n",
      "Epoch 101/120\n",
      "622/622 [==============================] - 23s 37ms/step - loss: 0.0202 - accuracy: 0.9924 - val_loss: 0.5158 - val_accuracy: 0.8888\n",
      "Epoch 102/120\n",
      "622/622 [==============================] - 23s 37ms/step - loss: 0.0080 - accuracy: 0.9981 - val_loss: 0.5917 - val_accuracy: 0.8850\n",
      "Epoch 103/120\n",
      "622/622 [==============================] - 23s 38ms/step - loss: 0.0094 - accuracy: 0.9971 - val_loss: 0.5598 - val_accuracy: 0.8876\n",
      "Epoch 104/120\n",
      "622/622 [==============================] - 23s 37ms/step - loss: 0.0130 - accuracy: 0.9953 - val_loss: 0.6708 - val_accuracy: 0.8519\n",
      "Epoch 105/120\n",
      "622/622 [==============================] - 23s 37ms/step - loss: 0.0669 - accuracy: 0.9747 - val_loss: 0.5398 - val_accuracy: 0.8888\n",
      "Epoch 106/120\n",
      "622/622 [==============================] - 24s 38ms/step - loss: 0.0075 - accuracy: 0.9982 - val_loss: 0.5488 - val_accuracy: 0.8894\n",
      "Epoch 107/120\n",
      "622/622 [==============================] - 24s 39ms/step - loss: 0.0116 - accuracy: 0.9961 - val_loss: 0.5467 - val_accuracy: 0.8807\n",
      "Epoch 108/120\n",
      "622/622 [==============================] - 24s 38ms/step - loss: 0.0070 - accuracy: 0.9978 - val_loss: 0.5902 - val_accuracy: 0.8917\n",
      "Epoch 109/120\n",
      "622/622 [==============================] - 23s 38ms/step - loss: 0.0098 - accuracy: 0.9961 - val_loss: 0.5389 - val_accuracy: 0.8925\n",
      "Epoch 110/120\n",
      "622/622 [==============================] - 23s 38ms/step - loss: 0.0163 - accuracy: 0.9941 - val_loss: 0.5596 - val_accuracy: 0.8912\n",
      "Epoch 111/120\n",
      "622/622 [==============================] - 23s 38ms/step - loss: 0.0207 - accuracy: 0.9914 - val_loss: 0.5247 - val_accuracy: 0.8833\n",
      "Epoch 112/120\n",
      "622/622 [==============================] - 24s 38ms/step - loss: 0.0089 - accuracy: 0.9976 - val_loss: 0.6032 - val_accuracy: 0.8909\n",
      "Epoch 113/120\n",
      "622/622 [==============================] - 24s 38ms/step - loss: 0.0126 - accuracy: 0.9950 - val_loss: 0.6249 - val_accuracy: 0.8791\n",
      "Epoch 114/120\n",
      "622/622 [==============================] - 23s 37ms/step - loss: 0.0052 - accuracy: 0.9986 - val_loss: 0.5921 - val_accuracy: 0.8921\n",
      "Epoch 115/120\n",
      "622/622 [==============================] - 23s 37ms/step - loss: 0.0091 - accuracy: 0.9963 - val_loss: 0.5808 - val_accuracy: 0.8847\n",
      "Epoch 116/120\n",
      "622/622 [==============================] - 23s 38ms/step - loss: 0.0322 - accuracy: 0.9872 - val_loss: 0.5526 - val_accuracy: 0.8731\n",
      "Epoch 117/120\n",
      "622/622 [==============================] - 23s 37ms/step - loss: 0.0119 - accuracy: 0.9959 - val_loss: 0.5804 - val_accuracy: 0.8919\n",
      "Epoch 118/120\n",
      "622/622 [==============================] - 23s 37ms/step - loss: 0.0029 - accuracy: 0.9994 - val_loss: 0.5988 - val_accuracy: 0.8937\n",
      "Epoch 119/120\n",
      "622/622 [==============================] - 24s 39ms/step - loss: 0.0023 - accuracy: 0.9997 - val_loss: 0.6528 - val_accuracy: 0.8880\n",
      "Epoch 120/120\n",
      "622/622 [==============================] - 23s 38ms/step - loss: 0.0299 - accuracy: 0.9888 - val_loss: 0.5690 - val_accuracy: 0.8926\n"
     ]
    }
   ],
   "source": [
    "fine_tuning_epochs=80\n",
    "total_epochs = small_model_epochs + fine_tuning_epochs\n",
    "history_fine_tuning = model_fixed_base.fit(\n",
    "  train_ds,\n",
    "  validation_data=val_ds,\n",
    "  epochs=total_epochs,\n",
    "  initial_epoch=history_model_fixed_base.epoch[-1],\n",
    "  class_weight=class_weight,\n",
    ")"
   ]
  },
  {
   "cell_type": "code",
   "execution_count": 26,
   "metadata": {},
   "outputs": [
    {
     "ename": "ValueError",
     "evalue": "x and y must have same first dimension, but have shapes (120,) and (121,)",
     "output_type": "error",
     "traceback": [
      "\u001b[0;31m---------------------------------------------------------------------------\u001b[0m",
      "\u001b[0;31mValueError\u001b[0m                                Traceback (most recent call last)",
      "Cell \u001b[0;32mIn [26], line 11\u001b[0m\n\u001b[1;32m      9\u001b[0m plt\u001b[39m.\u001b[39mfigure(figsize\u001b[39m=\u001b[39m(\u001b[39m8\u001b[39m, \u001b[39m8\u001b[39m))\n\u001b[1;32m     10\u001b[0m plt\u001b[39m.\u001b[39msubplot(\u001b[39m1\u001b[39m, \u001b[39m2\u001b[39m, \u001b[39m1\u001b[39m)\n\u001b[0;32m---> 11\u001b[0m plt\u001b[39m.\u001b[39;49mplot(epochs_range, acc, label\u001b[39m=\u001b[39;49m\u001b[39m'\u001b[39;49m\u001b[39mTraining Accuracy\u001b[39;49m\u001b[39m'\u001b[39;49m)\n\u001b[1;32m     12\u001b[0m plt\u001b[39m.\u001b[39mplot(epochs_range, val_acc, label\u001b[39m=\u001b[39m\u001b[39m'\u001b[39m\u001b[39mValidation Accuracy\u001b[39m\u001b[39m'\u001b[39m)\n\u001b[1;32m     13\u001b[0m plt\u001b[39m.\u001b[39mlegend(loc\u001b[39m=\u001b[39m\u001b[39m'\u001b[39m\u001b[39mlower right\u001b[39m\u001b[39m'\u001b[39m)\n",
      "File \u001b[0;32m~/.local/lib/python3.8/site-packages/matplotlib/pyplot.py:2740\u001b[0m, in \u001b[0;36mplot\u001b[0;34m(scalex, scaley, data, *args, **kwargs)\u001b[0m\n\u001b[1;32m   2738\u001b[0m \u001b[39m@_copy_docstring_and_deprecators\u001b[39m(Axes\u001b[39m.\u001b[39mplot)\n\u001b[1;32m   2739\u001b[0m \u001b[39mdef\u001b[39;00m \u001b[39mplot\u001b[39m(\u001b[39m*\u001b[39margs, scalex\u001b[39m=\u001b[39m\u001b[39mTrue\u001b[39;00m, scaley\u001b[39m=\u001b[39m\u001b[39mTrue\u001b[39;00m, data\u001b[39m=\u001b[39m\u001b[39mNone\u001b[39;00m, \u001b[39m*\u001b[39m\u001b[39m*\u001b[39mkwargs):\n\u001b[0;32m-> 2740\u001b[0m     \u001b[39mreturn\u001b[39;00m gca()\u001b[39m.\u001b[39;49mplot(\n\u001b[1;32m   2741\u001b[0m         \u001b[39m*\u001b[39;49margs, scalex\u001b[39m=\u001b[39;49mscalex, scaley\u001b[39m=\u001b[39;49mscaley,\n\u001b[1;32m   2742\u001b[0m         \u001b[39m*\u001b[39;49m\u001b[39m*\u001b[39;49m({\u001b[39m\"\u001b[39;49m\u001b[39mdata\u001b[39;49m\u001b[39m\"\u001b[39;49m: data} \u001b[39mif\u001b[39;49;00m data \u001b[39mis\u001b[39;49;00m \u001b[39mnot\u001b[39;49;00m \u001b[39mNone\u001b[39;49;00m \u001b[39melse\u001b[39;49;00m {}), \u001b[39m*\u001b[39;49m\u001b[39m*\u001b[39;49mkwargs)\n",
      "File \u001b[0;32m~/.local/lib/python3.8/site-packages/matplotlib/axes/_axes.py:1662\u001b[0m, in \u001b[0;36mAxes.plot\u001b[0;34m(self, scalex, scaley, data, *args, **kwargs)\u001b[0m\n\u001b[1;32m   1419\u001b[0m \u001b[39m\"\"\"\u001b[39;00m\n\u001b[1;32m   1420\u001b[0m \u001b[39mPlot y versus x as lines and/or markers.\u001b[39;00m\n\u001b[1;32m   1421\u001b[0m \n\u001b[0;32m   (...)\u001b[0m\n\u001b[1;32m   1659\u001b[0m \u001b[39m(``'green'``) or hex strings (``'#008000'``).\u001b[39;00m\n\u001b[1;32m   1660\u001b[0m \u001b[39m\"\"\"\u001b[39;00m\n\u001b[1;32m   1661\u001b[0m kwargs \u001b[39m=\u001b[39m cbook\u001b[39m.\u001b[39mnormalize_kwargs(kwargs, mlines\u001b[39m.\u001b[39mLine2D)\n\u001b[0;32m-> 1662\u001b[0m lines \u001b[39m=\u001b[39m [\u001b[39m*\u001b[39m\u001b[39mself\u001b[39m\u001b[39m.\u001b[39m_get_lines(\u001b[39m*\u001b[39margs, data\u001b[39m=\u001b[39mdata, \u001b[39m*\u001b[39m\u001b[39m*\u001b[39mkwargs)]\n\u001b[1;32m   1663\u001b[0m \u001b[39mfor\u001b[39;00m line \u001b[39min\u001b[39;00m lines:\n\u001b[1;32m   1664\u001b[0m     \u001b[39mself\u001b[39m\u001b[39m.\u001b[39madd_line(line)\n",
      "File \u001b[0;32m~/.local/lib/python3.8/site-packages/matplotlib/axes/_base.py:311\u001b[0m, in \u001b[0;36m_process_plot_var_args.__call__\u001b[0;34m(self, data, *args, **kwargs)\u001b[0m\n\u001b[1;32m    309\u001b[0m     this \u001b[39m+\u001b[39m\u001b[39m=\u001b[39m args[\u001b[39m0\u001b[39m],\n\u001b[1;32m    310\u001b[0m     args \u001b[39m=\u001b[39m args[\u001b[39m1\u001b[39m:]\n\u001b[0;32m--> 311\u001b[0m \u001b[39myield from\u001b[39;00m \u001b[39mself\u001b[39;49m\u001b[39m.\u001b[39;49m_plot_args(\n\u001b[1;32m    312\u001b[0m     this, kwargs, ambiguous_fmt_datakey\u001b[39m=\u001b[39;49mambiguous_fmt_datakey)\n",
      "File \u001b[0;32m~/.local/lib/python3.8/site-packages/matplotlib/axes/_base.py:504\u001b[0m, in \u001b[0;36m_process_plot_var_args._plot_args\u001b[0;34m(self, tup, kwargs, return_kwargs, ambiguous_fmt_datakey)\u001b[0m\n\u001b[1;32m    501\u001b[0m     \u001b[39mself\u001b[39m\u001b[39m.\u001b[39maxes\u001b[39m.\u001b[39myaxis\u001b[39m.\u001b[39mupdate_units(y)\n\u001b[1;32m    503\u001b[0m \u001b[39mif\u001b[39;00m x\u001b[39m.\u001b[39mshape[\u001b[39m0\u001b[39m] \u001b[39m!=\u001b[39m y\u001b[39m.\u001b[39mshape[\u001b[39m0\u001b[39m]:\n\u001b[0;32m--> 504\u001b[0m     \u001b[39mraise\u001b[39;00m \u001b[39mValueError\u001b[39;00m(\u001b[39mf\u001b[39m\u001b[39m\"\u001b[39m\u001b[39mx and y must have same first dimension, but \u001b[39m\u001b[39m\"\u001b[39m\n\u001b[1;32m    505\u001b[0m                      \u001b[39mf\u001b[39m\u001b[39m\"\u001b[39m\u001b[39mhave shapes \u001b[39m\u001b[39m{\u001b[39;00mx\u001b[39m.\u001b[39mshape\u001b[39m}\u001b[39;00m\u001b[39m and \u001b[39m\u001b[39m{\u001b[39;00my\u001b[39m.\u001b[39mshape\u001b[39m}\u001b[39;00m\u001b[39m\"\u001b[39m)\n\u001b[1;32m    506\u001b[0m \u001b[39mif\u001b[39;00m x\u001b[39m.\u001b[39mndim \u001b[39m>\u001b[39m \u001b[39m2\u001b[39m \u001b[39mor\u001b[39;00m y\u001b[39m.\u001b[39mndim \u001b[39m>\u001b[39m \u001b[39m2\u001b[39m:\n\u001b[1;32m    507\u001b[0m     \u001b[39mraise\u001b[39;00m \u001b[39mValueError\u001b[39;00m(\u001b[39mf\u001b[39m\u001b[39m\"\u001b[39m\u001b[39mx and y can be no greater than 2D, but have \u001b[39m\u001b[39m\"\u001b[39m\n\u001b[1;32m    508\u001b[0m                      \u001b[39mf\u001b[39m\u001b[39m\"\u001b[39m\u001b[39mshapes \u001b[39m\u001b[39m{\u001b[39;00mx\u001b[39m.\u001b[39mshape\u001b[39m}\u001b[39;00m\u001b[39m and \u001b[39m\u001b[39m{\u001b[39;00my\u001b[39m.\u001b[39mshape\u001b[39m}\u001b[39;00m\u001b[39m\"\u001b[39m)\n",
      "\u001b[0;31mValueError\u001b[0m: x and y must have same first dimension, but have shapes (120,) and (121,)"
     ]
    },
    {
     "data": {
      "image/png": "[encoded data removed]",
      "text/plain": [
       "<Figure size 800x800 with 1 Axes>"
      ]
     },
     "metadata": {},
     "output_type": "display_data"
    }
   ],
   "source": [
    "acc += history_fine_tuning.history['accuracy']\n",
    "val_acc += history_fine_tuning.history['val_accuracy']\n",
    "\n",
    "loss += history_fine_tuning.history['loss']\n",
    "val_loss += history_fine_tuning.history['val_loss']\n",
    "\n",
    "epochs_range = range(total_epochs) \n",
    "\n",
    "plt.figure(figsize=(8, 8))\n",
    "plt.subplot(1, 2, 1)\n",
    "plt.plot(epochs_range, acc, label='Training Accuracy')\n",
    "plt.plot(epochs_range, val_acc, label='Validation Accuracy')\n",
    "plt.legend(loc='lower right')\n",
    "plt.title('Training and Validation Accuracy')\n",
    "\n",
    "plt.subplot(1, 2, 2)\n",
    "plt.plot(epochs_range, loss, label='Training Loss')\n",
    "plt.plot(epochs_range, val_loss, label='Validation Loss')\n",
    "plt.legend(loc='upper right')\n",
    "plt.title('Training and Validation Loss')\n",
    "plt.show()"
   ]
  },
  {
   "cell_type": "code",
   "execution_count": null,
   "metadata": {},
   "outputs": [],
   "source": [
    "\n",
    "data_augmentation = keras.Sequential(\n",
    "  [\n",
    "    layers.RandomFlip(\"horizontal\",\n",
    "                      input_shape=(img_height,\n",
    "                                  img_width,\n",
    "                                  4)),\n",
    "    layers.RandomRotation(0.1),\n",
    "    layers.RandomZoom(0.1),\n",
    "  ]\n",
    ")\n",
    "\n"
   ]
  },
  {
   "cell_type": "code",
   "execution_count": null,
   "metadata": {},
   "outputs": [],
   "source": [
    "\n",
    "plt.figure(figsize=(10, 10))\n",
    "for images, _ in train_ds.take(1):\n",
    "  for i in range(9):\n",
    "    #with tf.device('/CPU:0'):\n",
    "    augmented_images = data_augmentation(images)\n",
    "    ax = plt.subplot(3, 3, i + 1)\n",
    "    plt.imshow(augmented_images[0].numpy().astype(\"uint8\"))\n",
    "    plt.axis(\"off\")"
   ]
  },
  {
   "cell_type": "code",
   "execution_count": null,
   "metadata": {},
   "outputs": [],
   "source": [
    "aug_ds = train_ds.map(lambda x, y: (data_augmentation(x, training=True), y), num_parallel_calls=AUTOTUNE)\n",
    "aug_ds = aug_ds.cache().shuffle(1000).prefetch(buffer_size=AUTOTUNE)\n"
   ]
  },
  {
   "cell_type": "code",
   "execution_count": null,
   "metadata": {},
   "outputs": [],
   "source": [
    "with strategy.scope():\n",
    "    augmented_model = Sequential([\n",
    "      layers.Rescaling(1./(2**8-1), input_shape=(img_height,\n",
    "                                  img_width,\n",
    "                                  4)),\n",
    "      layers.Conv2D(8, 3, padding='same', activation='relu'),\n",
    "      layers.MaxPooling2D(),\n",
    "      layers.Conv2D(16, 3, padding='same', activation='relu'),\n",
    "      layers.MaxPooling2D(),\n",
    "      layers.Conv2D(32, 3, padding='same', activation='relu'),\n",
    "      layers.MaxPooling2D(),\n",
    "      layers.Conv2D(64, 3, padding='same', activation='relu'),\n",
    "      layers.MaxPooling2D(),\n",
    "      layers.Conv2D(128, 3, padding='same', activation='relu'),\n",
    "      layers.MaxPooling2D(),\n",
    "      layers.Flatten(),\n",
    "      layers.Dropout(0.2),\n",
    "      layers.Dense(128, activation='relu'),\n",
    "      layers.Dropout(0.2),\n",
    "      layers.Dense(128, activation='relu'),\n",
    "      layers.Dropout(0.2),\n",
    "      layers.Dense(num_classes, name=\"outputs\")\n",
    "    ])\n",
    "\n",
    "    augmented_model.compile(optimizer='adam',\n",
    "                  loss=tf.keras.losses.SparseCategoricalCrossentropy(from_logits=True),\n",
    "                  metrics=['accuracy'])"
   ]
  },
  {
   "cell_type": "code",
   "execution_count": null,
   "metadata": {},
   "outputs": [],
   "source": [
    "augmented_model_epochs = 200\n",
    "augmented_model_history = augmented_model.fit(\n",
    "  aug_ds,\n",
    "  validation_data=val_ds,\n",
    "  epochs=augmented_model_epochs,\n",
    "  class_weight=class_weight\n",
    ")"
   ]
  },
  {
   "cell_type": "code",
   "execution_count": null,
   "metadata": {},
   "outputs": [],
   "source": [
    "acc = augmented_model_history.history['accuracy']\n",
    "val_acc = augmented_model_history.history['val_accuracy']\n",
    "\n",
    "loss = augmented_model_history.history['loss']\n",
    "val_loss = augmented_model_history.history['val_loss']\n",
    "\n",
    "epochs_range = range(augmented_model_epochs)\n",
    "\n",
    "plt.figure(figsize=(8, 8))\n",
    "plt.subplot(1, 2, 1)\n",
    "plt.plot(epochs_range, acc, label='Training Accuracy')\n",
    "plt.plot(epochs_range, val_acc, label='Validation Accuracy')\n",
    "plt.legend(loc='lower right')\n",
    "plt.title('Training and Validation Accuracy')\n",
    "\n",
    "plt.subplot(1, 2, 2)\n",
    "plt.plot(epochs_range, loss, label='Training Loss')\n",
    "plt.plot(epochs_range, val_loss, label='Validation Loss')\n",
    "plt.legend(loc='upper right')\n",
    "plt.title('Training and Validation Loss')\n",
    "plt.show()"
   ]
  },
  {
   "cell_type": "code",
   "execution_count": null,
   "metadata": {},
   "outputs": [],
   "source": []
  }
 ],
 "metadata": {
  "kernelspec": {
   "display_name": "Python 3.8.10 64-bit",
   "language": "python",
   "name": "python3"
  },
  "language_info": {
   "codemirror_mode": {
    "name": "ipython",
    "version": 3
   },
   "file_extension": ".py",
   "mimetype": "text/x-python",
   "name": "python",
   "nbconvert_exporter": "python",
   "pygments_lexer": "ipython3",
   "version": "3.8.10"
  },
  "orig_nbformat": 4,
  "vscode": {
   "interpreter": {
    "hash": "31f2aee4e71d21fbe5cf8b01ff0e069b9275f58929596ceb00d14d90e3e16cd6"
   }
  }
 },
 "nbformat": 4,
 "nbformat_minor": 2
}
