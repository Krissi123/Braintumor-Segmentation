{
 "cells": [
  {
   "cell_type": "code",
   "execution_count": null,
   "metadata": {},
   "outputs": [],
   "source": [
    "import glob\n",
    "import os\n",
    "import shutil\n",
    "from PIL import Image \n",
    "import matplotlib.pyplot as plt\n",
    "import numpy as np\n",
    "import pandas as pd\n",
    "import nibabel as nib\n",
    "\n",
    "from modules.scandata import MriScan, MriSlice, TumourSegmentation, ScanType, ScanPlane"
   ]
  },
  {
   "cell_type": "code",
   "execution_count": null,
   "metadata": {},
   "outputs": [],
   "source": [
    "import numpy as np\n",
    "import os\n",
    "import PIL\n",
    "import PIL.Image\n",
    "import tensorflow as tf\n",
    "#import tensorflow_datasets as tfds\n",
    "from sklearn.utils.class_weight import compute_class_weight\n",
    "\n",
    "from tensorflow import keras\n",
    "from tensorflow.keras import layers\n",
    "from tensorflow.keras.models import Sequential"
   ]
  },
  {
   "cell_type": "code",
   "execution_count": null,
   "metadata": {},
   "outputs": [],
   "source": [
    "tf.config.list_logical_devices('TPU')"
   ]
  },
  {
   "cell_type": "code",
   "execution_count": null,
   "metadata": {},
   "outputs": [],
   "source": [
    "cluster_resolver = tf.distribute.cluster_resolver.TPUClusterResolver(tpu='local')\n",
    "tf.config.experimental_connect_to_cluster(cluster_resolver)\n",
    "tf.tpu.experimental.initialize_tpu_system(cluster_resolver)\n",
    "strategy = tf.distribute.TPUStrategy(cluster_resolver)\n"
   ]
  },
  {
   "cell_type": "code",
   "execution_count": null,
   "metadata": {},
   "outputs": [],
   "source": [
    "batch_size = 64\n",
    "img_height = 240\n",
    "img_width = 240\n",
    "data_dir = os.path.join('data','UPENN-GBM','slice_classification_common_stratify','train')\n"
   ]
  },
  {
   "cell_type": "code",
   "execution_count": null,
   "metadata": {},
   "outputs": [],
   "source": [
    "train_ds = tf.keras.utils.image_dataset_from_directory(\n",
    "    data_dir,\n",
    "    validation_split=0.2,\n",
    "    subset=\"training\",\n",
    "    color_mode=\"rgba\",\n",
    "    seed=123,\n",
    "    image_size=(img_height, img_width),\n",
    "    batch_size=batch_size)"
   ]
  },
  {
   "cell_type": "code",
   "execution_count": null,
   "metadata": {},
   "outputs": [],
   "source": []
  },
  {
   "cell_type": "code",
   "execution_count": null,
   "metadata": {},
   "outputs": [],
   "source": [
    "val_ds = tf.keras.utils.image_dataset_from_directory(\n",
    "    data_dir,\n",
    "    validation_split=0.2,\n",
    "    subset=\"validation\",\n",
    "    color_mode=\"rgba\",\n",
    "    seed=123,\n",
    "    image_size=(img_height, img_width),\n",
    "    batch_size=batch_size)"
   ]
  },
  {
   "cell_type": "code",
   "execution_count": null,
   "metadata": {},
   "outputs": [],
   "source": [
    "class_names = train_ds.class_names\n",
    "print(class_names)"
   ]
  },
  {
   "cell_type": "code",
   "execution_count": null,
   "metadata": {},
   "outputs": [],
   "source": [
    " # Calculate class weights ofr weighting accuracy\n",
    "ds_classes = []\n",
    "for _, batch_classes in train_ds:\n",
    "    ds_classes.append(batch_classes.numpy())\n",
    "\n",
    "ds_classes = np.concatenate(ds_classes)\n",
    "\n",
    "class_weight = compute_class_weight(\n",
    "    class_weight = 'balanced',\n",
    "    classes = np.unique(ds_classes),\n",
    "    y=ds_classes\n",
    ")\n",
    "\n",
    "class_weight = dict(zip(np.unique(ds_classes), class_weight))\n"
   ]
  },
  {
   "cell_type": "code",
   "execution_count": null,
   "metadata": {},
   "outputs": [],
   "source": [
    "AUTOTUNE = tf.data.AUTOTUNE\n",
    "\n",
    "train_ds = train_ds.cache().shuffle(1000).prefetch(buffer_size=AUTOTUNE)\n",
    "val_ds = val_ds.cache().prefetch(buffer_size=AUTOTUNE)"
   ]
  },
  {
   "cell_type": "code",
   "execution_count": null,
   "metadata": {},
   "outputs": [],
   "source": [
    "normalization_layer = layers.Rescaling(1./(2**8-1))"
   ]
  },
  {
   "cell_type": "code",
   "execution_count": null,
   "metadata": {},
   "outputs": [],
   "source": [
    "num_classes = len(class_names)"
   ]
  },
  {
   "cell_type": "code",
   "execution_count": null,
   "metadata": {},
   "outputs": [],
   "source": [
    "margin = 8\n",
    "scaled_height = img_height - 2*margin\n",
    "scaled_width = img_width - 2*margin"
   ]
  },
  {
   "cell_type": "code",
   "execution_count": null,
   "metadata": {},
   "outputs": [],
   "source": [
    "# Build layers for model\n"
   ]
  },
  {
   "cell_type": "code",
   "execution_count": null,
   "metadata": {},
   "outputs": [],
   "source": [
    "\n",
    "with strategy.scope():\n",
    "    crop_layer = tf.keras.layers.Cropping2D(margin)\n",
    "    #rescale_initial = tf.keras.layers.Rescaling(1./127.5, offset=-1)\n",
    "    rescale_initial = tf.keras.layers.Rescaling(1./255)\n",
    "    conv_4to3_channel = tf.keras.layers.Conv2D(3,1,padding='same', activation='tanh')\n",
    "    trained_base_model = tf.keras.applications.MobileNetV2(\n",
    "        input_shape=(scaled_width,scaled_height,3),\n",
    "        include_top=False,\n",
    "        weights='imagenet'\n",
    "    )\n",
    "    global_average_layer = tf.keras.layers.GlobalAveragePooling2D()\n",
    "    prediction_layer = tf.keras.layers.Dense(num_classes)\n",
    "\n",
    "    trained_base_model.trainable = False\n",
    "    \n",
    "    inputs = tf.keras.Input(shape=(img_width, img_height, 4))\n",
    "    x = crop_layer(inputs)\n",
    "    x = rescale_initial(x)\n",
    "    x = conv_4to3_channel(x)\n",
    "    x = trained_base_model(x, training=False)\n",
    "    x = global_average_layer(x)\n",
    "    x = tf.keras.layers.Dropout(0.2)(x)\n",
    "    outputs = prediction_layer(x)\n",
    "   \n",
    "    earlystopping = tf.keras.callbacks.EarlyStopping(\n",
    "        monitor='val_loss',\n",
    "         patience=5,\n",
    "         min_delta=0.001)\n",
    "    \n",
    "    model_fixed_base = tf.keras.Model(inputs, outputs)\n",
    "    model_fixed_base.compile(optimizer=tf.keras.optimizers.Adam(learning_rate=0.0001),\n",
    "                  loss=tf.keras.losses.SparseCategoricalCrossentropy(from_logits=True),\n",
    "                  metrics=['accuracy']\n",
    "    )"
   ]
  },
  {
   "cell_type": "code",
   "execution_count": null,
   "metadata": {},
   "outputs": [],
   "source": [
    "model_fixed_base.summary()"
   ]
  },
  {
   "cell_type": "code",
   "execution_count": null,
   "metadata": {},
   "outputs": [],
   "source": [
    "small_model_epochs=80\n",
    "history_model_fixed_base = model_fixed_base.fit(\n",
    "  train_ds,\n",
    "  validation_data=val_ds,\n",
    "  epochs=small_model_epochs,\n",
    "  class_weight=class_weight,\n",
    "  callbacks=[earlystopping],\n",
    ")"
   ]
  },
  {
   "cell_type": "code",
   "execution_count": null,
   "metadata": {},
   "outputs": [],
   "source": [
    "layer_outputs = [layer.output for layer in model_fixed_base.layers[:4]]\n",
    "vis_model = tf.keras.models.Model(\n",
    "    inputs=model_fixed_base.input, \n",
    "    outputs=layer_outputs\n",
    ")"
   ]
  },
  {
   "cell_type": "code",
   "execution_count": null,
   "metadata": {},
   "outputs": [],
   "source": [
    "#((activations[-1][1,:,:,:]+1)*127.5).astype('uint8')"
   ]
  },
  {
   "cell_type": "code",
   "execution_count": null,
   "metadata": {},
   "outputs": [],
   "source": [
    "plt.figure(figsize=(10, 40))\n",
    "batch = train_ds.take(1)\n",
    "#activations = vis_model.predict(batch)\n",
    "for images, labels in batch:\n",
    "  for i in range(64):\n",
    "    image = np.expand_dims(images[i], axis=0)\n",
    "    activation = vis_model.predict(image)\n",
    "    ax = plt.subplot(16, 4, i + 1)\n",
    "    plt.imshow(((activation[-1][0,:,:,:]+1)*127.5).astype('uint8'))\n",
    "    plt.title(class_names[labels[i]], fontsize=6)\n",
    "    plt.axis(\"off\")"
   ]
  },
  {
   "cell_type": "code",
   "execution_count": null,
   "metadata": {},
   "outputs": [],
   "source": [
    "acc = history_model_fixed_base.history['accuracy']\n",
    "val_acc = history_model_fixed_base.history['val_accuracy']\n",
    "\n",
    "loss = history_model_fixed_base.history['loss']\n",
    "val_loss = history_model_fixed_base.history['val_loss']\n",
    "\n",
    "epochs_range = range(small_model_epochs)\n",
    "\n",
    "plt.figure(figsize=(8, 8))\n",
    "plt.subplot(1, 2, 1)\n",
    "plt.plot(acc, label='Training Accuracy')\n",
    "plt.plot(val_acc, label='Validation Accuracy')\n",
    "plt.legend(loc='lower right')\n",
    "plt.title('Training and Validation Accuracy')\n",
    "\n",
    "plt.subplot(1, 2, 2)\n",
    "plt.plot(loss, label='Training Loss')\n",
    "plt.plot(val_loss, label='Validation Loss')\n",
    "plt.legend(loc='upper right')\n",
    "plt.title('Training and Validation Loss')\n",
    "plt.show()"
   ]
  },
  {
   "cell_type": "code",
   "execution_count": null,
   "metadata": {},
   "outputs": [],
   "source": [
    "trained_base_model.trainable = True"
   ]
  },
  {
   "cell_type": "code",
   "execution_count": null,
   "metadata": {},
   "outputs": [],
   "source": [
    "fine_tune_at = 100\n",
    "\n",
    "# Freeze all the layers before the `fine_tune_at` layer\n",
    "for layer in trained_base_model.layers[:fine_tune_at]:\n",
    "  layer.trainable = False"
   ]
  },
  {
   "cell_type": "code",
   "execution_count": null,
   "metadata": {},
   "outputs": [],
   "source": [
    "with strategy.scope():\n",
    "  model_fixed_base.compile(optimizer=tf.keras.optimizers.Adam(learning_rate=0.00001),\n",
    "                  loss=tf.keras.losses.SparseCategoricalCrossentropy(from_logits=True),\n",
    "                  metrics=['accuracy']\n",
    "  )"
   ]
  },
  {
   "cell_type": "code",
   "execution_count": null,
   "metadata": {},
   "outputs": [],
   "source": [
    "fine_tuning_epochs=100\n",
    "total_epochs = small_model_epochs + fine_tuning_epochs\n",
    "history_fine_tuning = model_fixed_base.fit(\n",
    "  train_ds,\n",
    "  validation_data=val_ds,\n",
    "  epochs=total_epochs,\n",
    "  initial_epoch=history_model_fixed_base.epoch[-1],\n",
    "  class_weight=class_weight,\n",
    "  callbacks=[earlystopping],\n",
    ")"
   ]
  },
  {
   "cell_type": "code",
   "execution_count": null,
   "metadata": {},
   "outputs": [],
   "source": [
    "layer_outputs = [layer.output for layer in model_fixed_base.layers[:4]]\n",
    "vis_model = tf.keras.models.Model(\n",
    "    inputs=model_fixed_base.input, \n",
    "    outputs=layer_outputs\n",
    ")"
   ]
  },
  {
   "cell_type": "code",
   "execution_count": null,
   "metadata": {},
   "outputs": [],
   "source": [
    "plt.figure(figsize=(10, 40))\n",
    "for images, labels in batch:\n",
    "  for i in range(64):\n",
    "    image = np.expand_dims(images[i], axis=0)\n",
    "    activation = vis_model.predict(image)\n",
    "    ax = plt.subplot(16, 4, i + 1)\n",
    "    plt.imshow(((activation[-1][0,:,:,:]+1)*127.5).astype('uint8'))\n",
    "    plt.title(class_names[labels[i]], fontsize=6)\n",
    "    plt.axis(\"off\")"
   ]
  },
  {
   "cell_type": "code",
   "execution_count": null,
   "metadata": {},
   "outputs": [],
   "source": [
    "acc_fine = history_fine_tuning.history['val_accuracy']\n",
    "loss_fine = history_fine_tuning.history['val_loss']\n",
    "plt.plot(acc_fine)"
   ]
  },
  {
   "cell_type": "code",
   "execution_count": null,
   "metadata": {},
   "outputs": [],
   "source": [
    "trained_base_model.trainable = True\n",
    "for layer in trained_base_model.layers:\n",
    "    print(layer.trainable)"
   ]
  },
  {
   "cell_type": "code",
   "execution_count": null,
   "metadata": {},
   "outputs": [],
   "source": [
    "with strategy.scope():\n",
    "  model_fixed_base.compile(optimizer=tf.keras.optimizers.Adam(learning_rate=0.00001),\n",
    "                  loss=tf.keras.losses.SparseCategoricalCrossentropy(from_logits=True),\n",
    "                  metrics=['accuracy']\n",
    "  )\n",
    "  "
   ]
  },
  {
   "cell_type": "code",
   "execution_count": null,
   "metadata": {},
   "outputs": [],
   "source": [
    "full_relax_epochs=100\n",
    "total_epochs += full_relax_epochs\n",
    "history_fine_tuning = model_fixed_base.fit(\n",
    "  train_ds,\n",
    "  validation_data=val_ds,\n",
    "  epochs=total_epochs,\n",
    "  initial_epoch=history_fine_tuning.epoch[-1],\n",
    "  class_weight=class_weight,\n",
    "  callbacks=[earlystopping],\n",
    ")"
   ]
  },
  {
   "cell_type": "code",
   "execution_count": null,
   "metadata": {},
   "outputs": [],
   "source": [
    "layer_outputs = [layer.output for layer in model_fixed_base.layers[:4]]\n",
    "vis_model = tf.keras.models.Model(\n",
    "    inputs=model_fixed_base.input, \n",
    "    outputs=layer_outputs\n",
    ")\n",
    "\n",
    "plt.figure(figsize=(10, 40))\n",
    "#batch = train_ds.take(1)\n",
    "#activations = vis_model.predict(batch)\n",
    "for images, labels in batch:\n",
    "  for i in range(64):\n",
    "    image = np.expand_dims(images[i], axis=0)\n",
    "    activation = vis_model.predict(image)\n",
    "    ax = plt.subplot(16, 4, i + 1)\n",
    "    plt.imshow(((activation[-1][0,:,:,:]+1)*127.5).astype('uint8'))\n",
    "    plt.title(class_names[labels[i]], fontsize=6)\n",
    "    plt.axis(\"off\")"
   ]
  },
  {
   "cell_type": "code",
   "execution_count": null,
   "metadata": {},
   "outputs": [],
   "source": [
    "for ch in range(3):\n",
    "\n",
    "    print(\n",
    "        (((activation[-1][:,:,:,ch]+1)*127.5).astype('uint8')).min(), \n",
    "        (((activation[-1][:,:,:,ch]+1)*127.5).astype('uint8')).max(), \n",
    "    )"
   ]
  }
 ],
 "metadata": {
  "kernelspec": {
   "display_name": "Python 3.8.10 64-bit",
   "language": "python",
   "name": "python3"
  },
  "language_info": {
   "codemirror_mode": {
    "name": "ipython",
    "version": 3
   },
   "file_extension": ".py",
   "mimetype": "text/x-python",
   "name": "python",
   "nbconvert_exporter": "python",
   "pygments_lexer": "ipython3",
   "version": "3.8.10"
  },
  "orig_nbformat": 4,
  "vscode": {
   "interpreter": {
    "hash": "31f2aee4e71d21fbe5cf8b01ff0e069b9275f58929596ceb00d14d90e3e16cd6"
   }
  }
 },
 "nbformat": 4,
 "nbformat_minor": 2
}
