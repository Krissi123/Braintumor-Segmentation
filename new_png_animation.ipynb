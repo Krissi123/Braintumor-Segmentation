{
 "cells": [
  {
   "cell_type": "code",
   "execution_count": null,
   "metadata": {},
   "outputs": [],
   "source": [
    "import glob\n",
    "import os\n",
    "import shutil\n",
    "from PIL import Image \n",
    "import matplotlib.pyplot as plt\n",
    "from matplotlib.colors import ListedColormap\n",
    "import numpy as np\n",
    "import pandas as pd\n",
    "from apng import APNG\n",
    "\n",
    "\n"
   ]
  },
  {
   "cell_type": "code",
   "execution_count": null,
   "metadata": {},
   "outputs": [],
   "source": [
    "import tensorflow as tf\n",
    "#import tensorflow_datasets as tfds\n",
    "from sklearn.utils.class_weight import compute_class_weight\n",
    "from sklearn.model_selection import train_test_split\n",
    "from IPython.display import clear_output\n",
    "RSEED=123"
   ]
  },
  {
   "cell_type": "code",
   "execution_count": null,
   "metadata": {},
   "outputs": [],
   "source": [
    "# create test data\n",
    "test_image_dir = os.path.join('data','UPENN-GBM','slice_segmentation_stratify_healthy','test','image_data')\n",
    "test_map_dir = os.path.join('data','UPENN-GBM','slice_segmentation_stratify_healthy','test','map_data')\n"
   ]
  },
  {
   "cell_type": "code",
   "execution_count": null,
   "metadata": {},
   "outputs": [],
   "source": [
    "\n",
    "test_image_filenames = os.listdir(test_image_dir)\n",
    "test_image_filepaths = [os.path.join(test_image_dir,x) for x in test_image_filenames]\n",
    "test_map_filepaths = [\n",
    "    os.path.join(test_map_dir,x.replace('allseq','map')) for x in test_image_filenames\n",
    "]\n"
   ]
  },
  {
   "cell_type": "code",
   "execution_count": null,
   "metadata": {},
   "outputs": [],
   "source": [
    "test_patients = list(set([filename[:15] for filename in test_image_filenames]))\n",
    "\n",
    "\n",
    "# for patient in test_patients:\n",
    "#     for pred_slice in range(155):\n",
    "#         scan_image_name = f'{patient}_11_allseq_{pred_slice:03}.png'\n",
    "#         scan_image = tf.io.read_file(os.path.join(test_image_dir,scan_image_name))\n",
    "#         scan_image = tf.io.decode_png(scan_image, channels=4)\n",
    "#         scan_map = np.array(Image.open(\n",
    "#             os.path.join(test_map_dir,scan_image_name.replace('allseq','map'))\n",
    "#         ))\n",
    "#         tensor_image = tf.expand_dims(\n",
    "#             scaler_neg1_1(tf.cast(scan_image, 'float32')),\n",
    "#             0\n",
    "#         )\n",
    "        \n",
    "#         pred_map = np.squeeze(np.argmax(model.predict(tensor_image), axis=-1))\n",
    "#         pred_map[-1,-4:] = 1,2,3,4\n",
    "#         scan_map[-1,-4:] = 1,2,3,4\n",
    "#         plots=[scan_image[:,:,0],scan_map,pred_map]\n",
    "#         cmaps=['gist_gray',cmap,cmap]\n",
    "#         fig, axes = plt.subplots(1,3,figsize=(10, 10))\n",
    "#         plt.subplots_adjust(wspace=0, hspace=0)\n",
    "#         for i in range(3):\n",
    "#             axes[i].imshow(plots[i], cmap=cmaps[i])\n",
    "#             axes[i].axis('off')\n",
    "#         plt_name = os.path.join('predictions',scan_image_name.replace('allseq','predmap'))\n",
    "#         fig.savefig(plt_name, format='png', bbox_inches='tight')\n",
    "#         plt.close()\n"
   ]
  },
  {
   "cell_type": "code",
   "execution_count": null,
   "metadata": {},
   "outputs": [],
   "source": [
    "\n",
    "for patient in test_patients:\n",
    "    \n",
    "    png_list = [\n",
    "        os.path.join(\n",
    "            'predictions',f'{patient}_11_predmap_{x:03}.png'\n",
    "        ) for x in range(155)\n",
    "    ]\n",
    "\n",
    "    APNG.from_files(\n",
    "        png_list+png_list[::-1], delay=50\n",
    "    ).save(os.path.join('prediction_movies',f'{patient}_11_predmap_all.png'))"
   ]
  },
  {
   "cell_type": "code",
   "execution_count": null,
   "metadata": {},
   "outputs": [],
   "source": [
    "# Patient 593 0-40  p85        124-145\n",
    "png_list = (\n",
    "    [\n",
    "        os.path.join(\n",
    "            'predictions',f'UPENN-GBM-00593_11_predmap_{x:03}.png'\n",
    "        ) for x in range(40)\n",
    "    ]\n",
    "    + \n",
    "    list(np.ravel([\n",
    "        3*[y] for y in [\n",
    "            os.path.join(\n",
    "                'predictions',f'UPENN-GBM-00593_11_predmap_{x:03}.png'\n",
    "            ) for x in range(40,85)\n",
    "        ]\n",
    "    ]))\n",
    "    + \n",
    "    list(np.ravel([\n",
    "        25*[y] for y in [\n",
    "            os.path.join(\n",
    "                'predictions',f'UPENN-GBM-00593_11_predmap_{x:03}.png'\n",
    "            ) for x in [85]\n",
    "        ]\n",
    "    ]))\n",
    "    + \n",
    "    list(np.ravel([\n",
    "        3*[y] for y in [\n",
    "            os.path.join(\n",
    "                'predictions',f'UPENN-GBM-00593_11_predmap_{x:03}.png'\n",
    "            ) for x in range(86,124)\n",
    "        ]\n",
    "    ]))\n",
    "    + \n",
    "    [\n",
    "        y for y in [\n",
    "            os.path.join(\n",
    "                'predictions',f'UPENN-GBM-00593_11_predmap_{x:03}.png'\n",
    "            ) for x in range(125,145)\n",
    "        ]\n",
    "    ]\n",
    ")"
   ]
  },
  {
   "cell_type": "code",
   "execution_count": null,
   "metadata": {},
   "outputs": [],
   "source": [
    "#png_list = list(np.ravel(png_list))"
   ]
  },
  {
   "cell_type": "code",
   "execution_count": null,
   "metadata": {},
   "outputs": [],
   "source": [
    "png_list"
   ]
  },
  {
   "cell_type": "code",
   "execution_count": null,
   "metadata": {},
   "outputs": [],
   "source": [
    "APNG.from_files(\n",
    "        png_list+png_list[::-1], delay=50\n",
    "    ).save(os.path.join('prediction_movies',f'UPENN-GBM-00593_11_predmap_all_slow.png'))"
   ]
  },
  {
   "cell_type": "code",
   "execution_count": null,
   "metadata": {},
   "outputs": [],
   "source": [
    "# Patient 593 0-40  p85        124-145\n",
    "png_list = (\n",
    "    [\n",
    "        os.path.join(\n",
    "            'predictions',f'UPENN-GBM-00016_11_predmap_{x:03}.png'\n",
    "        ) for x in range(37)\n",
    "    ]\n",
    "    + \n",
    "    list(np.ravel([\n",
    "        3*[y] for y in [\n",
    "            os.path.join(\n",
    "                'predictions',f'UPENN-GBM-00016_11_predmap_{x:03}.png'\n",
    "            ) for x in range(37,60)\n",
    "        ]\n",
    "    ]))\n",
    "    + \n",
    "    list(np.ravel([\n",
    "        25*[y] for y in [\n",
    "            os.path.join(\n",
    "                'predictions',f'UPENN-GBM-00016_11_predmap_{x:03}.png'\n",
    "            ) for x in [60]\n",
    "        ]\n",
    "    ]))\n",
    "    + \n",
    "    list(np.ravel([\n",
    "        3*[y] for y in [\n",
    "            os.path.join(\n",
    "                'predictions',f'UPENN-GBM-00016_11_predmap_{x:03}.png'\n",
    "            ) for x in range(61,87)\n",
    "        ]\n",
    "    ]))\n",
    "    + \n",
    "    [\n",
    "        y for y in [\n",
    "            os.path.join(\n",
    "                'predictions',f'UPENN-GBM-00016_11_predmap_{x:03}.png'\n",
    "            ) for x in range(87,145)\n",
    "        ]\n",
    "    ]\n",
    ")"
   ]
  },
  {
   "cell_type": "code",
   "execution_count": null,
   "metadata": {},
   "outputs": [],
   "source": [
    "APNG.from_files(\n",
    "        png_list+png_list[::-1], delay=50\n",
    "    ).save(os.path.join('prediction_movies',f'UPENN-GBM-00016_11_predmap_all_slow.png'))"
   ]
  },
  {
   "cell_type": "code",
   "execution_count": null,
   "metadata": {},
   "outputs": [],
   "source": []
  }
 ],
 "metadata": {
  "kernelspec": {
   "display_name": "Python 3.8.10 64-bit",
   "language": "python",
   "name": "python3"
  },
  "language_info": {
   "codemirror_mode": {
    "name": "ipython",
    "version": 3
   },
   "file_extension": ".py",
   "mimetype": "text/x-python",
   "name": "python",
   "nbconvert_exporter": "python",
   "pygments_lexer": "ipython3",
   "version": "3.8.10"
  },
  "orig_nbformat": 4,
  "vscode": {
   "interpreter": {
    "hash": "31f2aee4e71d21fbe5cf8b01ff0e069b9275f58929596ceb00d14d90e3e16cd6"
   }
  }
 },
 "nbformat": 4,
 "nbformat_minor": 2
}
