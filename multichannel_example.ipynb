{
 "cells": [
  {
   "cell_type": "code",
   "execution_count": null,
   "metadata": {},
   "outputs": [],
   "source": [
    "import glob\n",
    "import os\n",
    "import shutil\n",
    "from PIL import Image \n",
    "import matplotlib.pyplot as plt\n",
    "import numpy as np\n",
    "import pandas as pd\n",
    "import nibabel as nib\n",
    "\n",
    "from modules.scandata import MriScan, MriSlice, TumourSegmentation, ScanType, ScanPlane, PatientRecord"
   ]
  },
  {
   "cell_type": "code",
   "execution_count": null,
   "metadata": {},
   "outputs": [],
   "source": [
    "T1_scan = MriScan(\n",
    "    filename='data/mri-datasets/first-20-testset/images_structural/UPENN-GBM-00002_11/UPENN-GBM-00002_11_T1.nii.gz',\n",
    "    sequence=ScanType.T1\n",
    ")\n",
    "T1CE_scan = MriScan(\n",
    "    filename='data/mri-datasets/first-20-testset/images_structural/UPENN-GBM-00002_11/UPENN-GBM-00002_11_T1GD.nii.gz',\n",
    "    sequence=ScanType.T1CE\n",
    ")\n",
    "T2_scan = MriScan(\n",
    "    filename='data/mri-datasets/first-20-testset/images_structural/UPENN-GBM-00002_11/UPENN-GBM-00002_11_T2.nii.gz',\n",
    "    sequence=ScanType.T2\n",
    ")\n",
    "FLAIR_scan = MriScan(\n",
    "    filename='data/mri-datasets/first-20-testset/images_structural/UPENN-GBM-00002_11/UPENN-GBM-00002_11_FLAIR.nii.gz',\n",
    "    sequence=ScanType.FLAIR\n",
    ")\n",
    "segmentation = TumourSegmentation(\n",
    "    filename='data/mri-datasets/first-20-testset/AutoSeg/UPENN-GBM-00002_11_automated_approx_segm.nii.gz',\n",
    "    )"
   ]
  },
  {
   "cell_type": "code",
   "execution_count": null,
   "metadata": {},
   "outputs": [],
   "source": [
    "patient_data = PatientRecord()\n",
    "patient_data.add_scan_data(T1_scan)\n",
    "patient_data.add_scan_data(T1CE_scan)\n",
    "patient_data.add_scan_data(T2_scan)\n",
    "patient_data.add_scan_data(FLAIR_scan)\n",
    "patient_data.add_segmentation(segmentation)\n"
   ]
  },
  {
   "cell_type": "code",
   "execution_count": null,
   "metadata": {},
   "outputs": [],
   "source": [
    "#patient_data.save_multi_channel_png(\"channel4\", [ScanType.T1CE,ScanType.T2,ScanType.FLAIR])\n",
    "patient_data.save_multi_channel_png(\"channel4\", [ScanType.T2,ScanType.T1CE, ScanType.FLAIR,ScanType.T1])\n"
   ]
  },
  {
   "cell_type": "code",
   "execution_count": null,
   "metadata": {},
   "outputs": [],
   "source": [
    "patient_data.scaling_factor"
   ]
  },
  {
   "cell_type": "code",
   "execution_count": null,
   "metadata": {},
   "outputs": [],
   "source": [
    "img = Image.open('channel4_079.png')\n"
   ]
  },
  {
   "cell_type": "code",
   "execution_count": null,
   "metadata": {},
   "outputs": [],
   "source": [
    "arr = np.asarray(img)"
   ]
  },
  {
   "cell_type": "code",
   "execution_count": null,
   "metadata": {},
   "outputs": [],
   "source": [
    "arr.max()"
   ]
  },
  {
   "cell_type": "code",
   "execution_count": null,
   "metadata": {},
   "outputs": [],
   "source": []
  }
 ],
 "metadata": {
  "kernelspec": {
   "display_name": "Python 3.9.8 ('.venv_dev_tf2.7metal0.51': venv)",
   "language": "python",
   "name": "python3"
  },
  "language_info": {
   "codemirror_mode": {
    "name": "ipython",
    "version": 3
   },
   "file_extension": ".py",
   "mimetype": "text/x-python",
   "name": "python",
   "nbconvert_exporter": "python",
   "pygments_lexer": "ipython3",
   "version": "3.9.8"
  },
  "orig_nbformat": 4,
  "vscode": {
   "interpreter": {
    "hash": "842062f5d3919b83d82d868d53c1353af6d159aeedf66ea78f1971b285c4f893"
   }
  }
 },
 "nbformat": 4,
 "nbformat_minor": 2
}
