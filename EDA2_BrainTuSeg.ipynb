{
 "cells": [
  {
   "cell_type": "markdown",
   "metadata": {},
   "source": [
    "# EDA for Braintumor Segmentation"
   ]
  },
  {
   "cell_type": "code",
   "execution_count": 222,
   "metadata": {},
   "outputs": [],
   "source": [
    "# Import libraries\n",
    "\n",
    "import pandas as pd\n",
    "import numpy as np\n",
    "import matplotlib.pyplot as plt\n",
    "import seaborn as sns\n",
    "sns.set_theme()\n",
    "import nibabel as nib\n",
    "from IPython.display import display"
   ]
  },
  {
   "cell_type": "code",
   "execution_count": 186,
   "metadata": {},
   "outputs": [],
   "source": [
    "# Import clinical Data Files\n",
    "\n",
    "df_clin = pd.read_csv('data/further_infos/UPENN-GBM_clinical_info_v1.0.csv')"
   ]
  },
  {
   "cell_type": "code",
   "execution_count": 187,
   "metadata": {},
   "outputs": [],
   "source": [
    "# Import Data Files of Acquisition\n",
    "df_acqui = pd.read_csv('data/further_infos/UPENN-GBM_acquisition.csv')"
   ]
  },
  {
   "cell_type": "code",
   "execution_count": 188,
   "metadata": {},
   "outputs": [],
   "source": [
    "# Import Data File Availability\n",
    "df_avai = pd.read_csv('data/further_infos/UPENN-GBM_data_availability.csv')"
   ]
  },
  {
   "cell_type": "markdown",
   "metadata": {},
   "source": [
    "## Create a working list \n",
    "\n",
    "containing age, gender, tumour-type, ...\n",
    "named df"
   ]
  },
  {
   "cell_type": "code",
   "execution_count": 207,
   "metadata": {},
   "outputs": [],
   "source": [
    "# merge all infos\n",
    "brain_seg_all = pd.merge(df_acqui,df_clin, on='ID', how='inner')"
   ]
  },
  {
   "cell_type": "code",
   "execution_count": 208,
   "metadata": {},
   "outputs": [],
   "source": [
    "# replace gender: male is 0, female is 1\n",
    "brain_seg_all.Gender.replace('M',0,inplace=True)\n",
    "brain_seg_all.Gender.replace('F',1,inplace=True)"
   ]
  },
  {
   "cell_type": "code",
   "execution_count": 190,
   "metadata": {},
   "outputs": [],
   "source": [
    "# create new column for gender as integer\n",
    "#brain_seg_all['male'] = np.where(brain_seg_all['Gender'] == 'M', 1, 0)"
   ]
  },
  {
   "cell_type": "code",
   "execution_count": 209,
   "metadata": {},
   "outputs": [],
   "source": [
    "# drop unneeded columns\n",
    "brain_seg_incl_seq = brain_seg_all.drop(['Manufacturer', 'Model', 'DTI Imaging Frequency', 'DTI Repetition Time', 'DTI Echo Time', 'DTI Flip Angle', 'DTI Pixel Spacing', 'DTI Slice Thickness', 'DSC Imaging Frequency', 'DSC Repetition Time', 'DSC Echo Time', 'DSC Flip Angle', 'DSC Pixel Spacing', 'DSC Slice Thickness'], axis=1)"
   ]
  },
  {
   "cell_type": "code",
   "execution_count": 210,
   "metadata": {},
   "outputs": [],
   "source": [
    "# keep only preop datasets, list contains all used sequences\n",
    "preop_allseq = brain_seg_incl_seq.drop(brain_seg_incl_seq[brain_seg_incl_seq['ID'].str.endswith('_21')].index)"
   ]
  },
  {
   "cell_type": "code",
   "execution_count": 211,
   "metadata": {},
   "outputs": [],
   "source": [
    "# drop unneeded sequence infos\n",
    "preop_small_df = preop_allseq.drop(['T1 Imaging Frequency',\n",
    "       'T1 Repetition Time', 'T1 Echo Time', 'T1 Inversion Time',\n",
    "       'T1 Flip Angle', 'T1 Pixel Spacing', 'T1 Slice Thickness',\n",
    "       'T1GD Imaging Frequency', 'T1GD Repetition Time', 'T1GD Echo Time',\n",
    "       'T1GD Inversion Time', 'T1GD Flip Angle', 'T1GD Pixel Spacing',\n",
    "       'T1GD Slice Thickness', 'T2 Imaging Frequency', 'T2 Repetition Time',\n",
    "       'T2 Echo Time', 'T2 Flip Angle', 'T2 Pixel Spacing',\n",
    "       'T2 Slice Thickness', 'FLAIR Imaging Frequency',\n",
    "       'FLAIR Repetition Time', 'FLAIR Echo Time', 'FLAIR Inversion Time',\n",
    "       'FLAIR Flip Angle', 'FLAIR Pixel Spacing', 'FLAIR Slice Thickness'], axis=1)\n"
   ]
  },
  {
   "cell_type": "code",
   "execution_count": 212,
   "metadata": {},
   "outputs": [
    {
     "data": {
      "text/html": [
       "<div>\n",
       "<style scoped>\n",
       "    .dataframe tbody tr th:only-of-type {\n",
       "        vertical-align: middle;\n",
       "    }\n",
       "\n",
       "    .dataframe tbody tr th {\n",
       "        vertical-align: top;\n",
       "    }\n",
       "\n",
       "    .dataframe thead th {\n",
       "        text-align: right;\n",
       "    }\n",
       "</style>\n",
       "<table border=\"1\" class=\"dataframe\">\n",
       "  <thead>\n",
       "    <tr style=\"text-align: right;\">\n",
       "      <th></th>\n",
       "      <th>ID</th>\n",
       "      <th>Magnetic Field Strength</th>\n",
       "      <th>Gender</th>\n",
       "      <th>Age_at_scan_years</th>\n",
       "      <th>Survival_from_surgery_days</th>\n",
       "      <th>IDH1</th>\n",
       "      <th>MGMT</th>\n",
       "      <th>KPS</th>\n",
       "      <th>GTR_over90percent</th>\n",
       "      <th>Time_since_baseline_preop</th>\n",
       "      <th>PsP_TP_score</th>\n",
       "    </tr>\n",
       "  </thead>\n",
       "  <tbody>\n",
       "    <tr>\n",
       "      <th>0</th>\n",
       "      <td>UPENN-GBM-00001_11</td>\n",
       "      <td>3.0</td>\n",
       "      <td>1</td>\n",
       "      <td>52.16</td>\n",
       "      <td>Not Available</td>\n",
       "      <td>Wildtype</td>\n",
       "      <td>Not Available</td>\n",
       "      <td>Not Available</td>\n",
       "      <td>Y</td>\n",
       "      <td>0</td>\n",
       "      <td>NaN</td>\n",
       "    </tr>\n",
       "    <tr>\n",
       "      <th>1</th>\n",
       "      <td>UPENN-GBM-00002_11</td>\n",
       "      <td>3.0</td>\n",
       "      <td>1</td>\n",
       "      <td>61.30</td>\n",
       "      <td>291</td>\n",
       "      <td>Wildtype</td>\n",
       "      <td>Not Available</td>\n",
       "      <td>Not Available</td>\n",
       "      <td>Y</td>\n",
       "      <td>0</td>\n",
       "      <td>NaN</td>\n",
       "    </tr>\n",
       "    <tr>\n",
       "      <th>2</th>\n",
       "      <td>UPENN-GBM-00003_11</td>\n",
       "      <td>3.0</td>\n",
       "      <td>0</td>\n",
       "      <td>42.82</td>\n",
       "      <td>Not Available</td>\n",
       "      <td>Wildtype</td>\n",
       "      <td>Not Available</td>\n",
       "      <td>Not Available</td>\n",
       "      <td>Y</td>\n",
       "      <td>0</td>\n",
       "      <td>NaN</td>\n",
       "    </tr>\n",
       "    <tr>\n",
       "      <th>3</th>\n",
       "      <td>UPENN-GBM-00004_11</td>\n",
       "      <td>3.0</td>\n",
       "      <td>0</td>\n",
       "      <td>33.43</td>\n",
       "      <td>Not Available</td>\n",
       "      <td>NOS/NEC</td>\n",
       "      <td>Not Available</td>\n",
       "      <td>Not Available</td>\n",
       "      <td>Y</td>\n",
       "      <td>0</td>\n",
       "      <td>NaN</td>\n",
       "    </tr>\n",
       "    <tr>\n",
       "      <th>4</th>\n",
       "      <td>UPENN-GBM-00005_11</td>\n",
       "      <td>3.0</td>\n",
       "      <td>0</td>\n",
       "      <td>53.33</td>\n",
       "      <td>Not Available</td>\n",
       "      <td>Wildtype</td>\n",
       "      <td>Not Available</td>\n",
       "      <td>Not Available</td>\n",
       "      <td>Y</td>\n",
       "      <td>0</td>\n",
       "      <td>NaN</td>\n",
       "    </tr>\n",
       "  </tbody>\n",
       "</table>\n",
       "</div>"
      ],
      "text/plain": [
       "                   ID  Magnetic Field Strength  Gender  Age_at_scan_years  \\\n",
       "0  UPENN-GBM-00001_11                      3.0       1              52.16   \n",
       "1  UPENN-GBM-00002_11                      3.0       1              61.30   \n",
       "2  UPENN-GBM-00003_11                      3.0       0              42.82   \n",
       "3  UPENN-GBM-00004_11                      3.0       0              33.43   \n",
       "4  UPENN-GBM-00005_11                      3.0       0              53.33   \n",
       "\n",
       "  Survival_from_surgery_days      IDH1           MGMT            KPS  \\\n",
       "0              Not Available  Wildtype  Not Available  Not Available   \n",
       "1                        291  Wildtype  Not Available  Not Available   \n",
       "2              Not Available  Wildtype  Not Available  Not Available   \n",
       "3              Not Available   NOS/NEC  Not Available  Not Available   \n",
       "4              Not Available  Wildtype  Not Available  Not Available   \n",
       "\n",
       "  GTR_over90percent Time_since_baseline_preop  PsP_TP_score  \n",
       "0                 Y                         0           NaN  \n",
       "1                 Y                         0           NaN  \n",
       "2                 Y                         0           NaN  \n",
       "3                 Y                         0           NaN  \n",
       "4                 Y                         0           NaN  "
      ]
     },
     "execution_count": 212,
     "metadata": {},
     "output_type": "execute_result"
    }
   ],
   "source": [
    "preop_small_df.head()"
   ]
  },
  {
   "cell_type": "markdown",
   "metadata": {},
   "source": [
    "#### Checking the Data"
   ]
  },
  {
   "cell_type": "code",
   "execution_count": 214,
   "metadata": {},
   "outputs": [
    {
     "name": "stdout",
     "output_type": "stream",
     "text": [
      "0    367\n",
      "1    244\n",
      "Name: Gender, dtype: int64\n",
      "3.00000    537\n",
      "1.50000     73\n",
      "2.89362      1\n",
      "Name: Magnetic Field Strength, dtype: int64\n",
      "Wildtype    499\n",
      "NOS/NEC      96\n",
      "Mutated      16\n",
      "Name: IDH1, dtype: int64\n",
      "62.97759410801964\n"
     ]
    }
   ],
   "source": [
    "print (preop_small_df['Gender'].value_counts())\n",
    "print (preop_small_df['Magnetic Field Strength'].value_counts())\n",
    "print (preop_small_df['IDH1'].value_counts())\n",
    "print (preop_small_df['Age_at_scan_years'].mean())"
   ]
  },
  {
   "cell_type": "code",
   "execution_count": 223,
   "metadata": {},
   "outputs": [
    {
     "data": {
      "text/plain": [
       "0    367\n",
       "1    244\n",
       "Name: Gender, dtype: int64"
      ]
     },
     "metadata": {},
     "output_type": "display_data"
    },
    {
     "data": {
      "text/plain": [
       "3.00000    537\n",
       "1.50000     73\n",
       "2.89362      1\n",
       "Name: Magnetic Field Strength, dtype: int64"
      ]
     },
     "metadata": {},
     "output_type": "display_data"
    },
    {
     "data": {
      "text/plain": [
       "Wildtype    499\n",
       "NOS/NEC      96\n",
       "Mutated      16\n",
       "Name: IDH1, dtype: int64"
      ]
     },
     "metadata": {},
     "output_type": "display_data"
    },
    {
     "data": {
      "text/plain": [
       "62.97759410801964"
      ]
     },
     "metadata": {},
     "output_type": "display_data"
    }
   ],
   "source": [
    "display (preop_small_df['Gender'].value_counts())\n",
    "display (preop_small_df['Magnetic Field Strength'].value_counts())\n",
    "display (preop_small_df['IDH1'].value_counts())\n",
    "display (preop_small_df['Age_at_scan_years'].mean())"
   ]
  },
  {
   "cell_type": "code",
   "execution_count": 216,
   "metadata": {},
   "outputs": [],
   "source": [
    "# create column groups of age\n",
    "def categorise(row):\n",
    "    if row['Age_at_scan_years'] < 40: \n",
    "        return '<40'\n",
    "    elif row['Age_at_scan_years'] >= 40 and row['Age_at_scan_years'] < 50 : \n",
    "        return '40-50'\n",
    "    elif row['Age_at_scan_years'] >= 50 and row['Age_at_scan_years'] < 60 : \n",
    "        return '50-60'\n",
    "    elif row['Age_at_scan_years'] >= 60 and row['Age_at_scan_years'] < 70 : \n",
    "        return '60-70'\n",
    "    elif row['Age_at_scan_years'] >= 70 and row['Age_at_scan_years'] < 80 : \n",
    "        return '70-80'\n",
    "    return '>80'\n",
    "\n",
    "\n",
    "\n",
    "preop_small_df['age_group'] = preop_small_df.apply(lambda row: categorise(row), axis=1)\n"
   ]
  },
  {
   "cell_type": "code",
   "execution_count": 217,
   "metadata": {},
   "outputs": [
    {
     "data": {
      "text/plain": [
       "ID                              0.0\n",
       "Magnetic Field Strength         0.0\n",
       "Gender                          0.0\n",
       "Age_at_scan_years               0.0\n",
       "Survival_from_surgery_days      0.0\n",
       "IDH1                            0.0\n",
       "MGMT                            0.0\n",
       "KPS                             0.0\n",
       "GTR_over90percent               0.0\n",
       "Time_since_baseline_preop       0.0\n",
       "PsP_TP_score                  100.0\n",
       "age_group                       0.0\n",
       "dtype: float64"
      ]
     },
     "execution_count": 217,
     "metadata": {},
     "output_type": "execute_result"
    }
   ],
   "source": [
    "preop_small_df.isnull().sum()*100/len(preop_small_df)"
   ]
  },
  {
   "cell_type": "code",
   "execution_count": 218,
   "metadata": {},
   "outputs": [
    {
     "data": {
      "image/png": "[encoded data removed]",
      "text/plain": [
       "<Figure size 640x480 with 1 Axes>"
      ]
     },
     "metadata": {},
     "output_type": "display_data"
    }
   ],
   "source": [
    "# barchart\n",
    "sns.countplot(x=preop_small_df['age_group'], hue=preop_small_df.Gender, palette='dark:grey',\n",
    "    order=['<40','40-50','50-60','60-70','>80'])\n",
    "\n",
    "# Labeling\n",
    "plt.ylabel(\"Number of Patients\")\n",
    "plt.xlabel(\"Groups of Age\")\n",
    "plt.title(\"Deviation of Age\")\n",
    "\n",
    "plt.show()"
   ]
  },
  {
   "cell_type": "code",
   "execution_count": 219,
   "metadata": {},
   "outputs": [
    {
     "data": {
      "image/png": "[encoded data removed]",
      "text/plain": [
       "<Figure size 640x480 with 1 Axes>"
      ]
     },
     "metadata": {},
     "output_type": "display_data"
    }
   ],
   "source": [
    "# barchart\n",
    "sns.countplot(x=preop_small_df['IDH1'], hue=preop_small_df.Gender, palette='dark:grey')\n",
    "\n",
    "# Labeling\n",
    "plt.ylabel(\"Number of Patients\")\n",
    "plt.xlabel(\"Mutationtype\")\n",
    "plt.title(\"Deviation of Tumour Mutation\")\n",
    "\n",
    "plt.show()"
   ]
  }
 ],
 "metadata": {
  "kernelspec": {
   "display_name": "Python 3.9.8 ('.venv': venv)",
   "language": "python",
   "name": "python3"
  },
  "language_info": {
   "codemirror_mode": {
    "name": "ipython",
    "version": 3
   },
   "file_extension": ".py",
   "mimetype": "text/x-python",
   "name": "python",
   "nbconvert_exporter": "python",
   "pygments_lexer": "ipython3",
   "version": "3.9.8"
  },
  "orig_nbformat": 4,
  "vscode": {
   "interpreter": {
    "hash": "40ba82aeb44fd6f4293b90c21643316c2614e2dc96262fd459418bf5ca3c19de"
   }
  }
 },
 "nbformat": 4,
 "nbformat_minor": 2
}
